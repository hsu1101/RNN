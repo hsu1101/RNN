{
  "nbformat": 4,
  "nbformat_minor": 0,
  "metadata": {
    "colab": {
      "name": "期末作業斷詞.ipynb",
      "provenance": [],
      "collapsed_sections": []
    },
    "kernelspec": {
      "name": "python3",
      "display_name": "Python 3"
    },
    "language_info": {
      "name": "python"
    }
  },
  "cells": [
    {
      "cell_type": "code",
      "metadata": {
        "id": "QwMKOzsXAU_F"
      },
      "source": [
        "import pandas as pd\n",
        "\n",
        "data = pd.read_csv('https://raw.githubusercontent.com/SophonPlus/ChineseNlpCorpus/master/datasets/ChnSentiCorp_htl_all/ChnSentiCorp_htl_all.csv')"
      ],
      "execution_count": null,
      "outputs": []
    },
    {
      "cell_type": "code",
      "metadata": {
        "colab": {
          "base_uri": "https://localhost:8080/"
        },
        "id": "FqyQiwYqAfJR",
        "outputId": "a7a1a1c9-bfa3-489a-ba4c-b7b735878f2e"
      },
      "source": [
        "len(data)"
      ],
      "execution_count": null,
      "outputs": [
        {
          "output_type": "execute_result",
          "data": {
            "text/plain": [
              "7766"
            ]
          },
          "metadata": {
            "tags": []
          },
          "execution_count": 2
        }
      ]
    },
    {
      "cell_type": "code",
      "metadata": {
        "colab": {
          "base_uri": "https://localhost:8080/",
          "height": 204
        },
        "id": "i3MiAdATAfML",
        "outputId": "934a70f5-025d-403b-fd46-c8caaade05ee"
      },
      "source": [
        "data.head()"
      ],
      "execution_count": null,
      "outputs": [
        {
          "output_type": "execute_result",
          "data": {
            "text/html": [
              "<div>\n",
              "<style scoped>\n",
              "    .dataframe tbody tr th:only-of-type {\n",
              "        vertical-align: middle;\n",
              "    }\n",
              "\n",
              "    .dataframe tbody tr th {\n",
              "        vertical-align: top;\n",
              "    }\n",
              "\n",
              "    .dataframe thead th {\n",
              "        text-align: right;\n",
              "    }\n",
              "</style>\n",
              "<table border=\"1\" class=\"dataframe\">\n",
              "  <thead>\n",
              "    <tr style=\"text-align: right;\">\n",
              "      <th></th>\n",
              "      <th>label</th>\n",
              "      <th>review</th>\n",
              "    </tr>\n",
              "  </thead>\n",
              "  <tbody>\n",
              "    <tr>\n",
              "      <th>0</th>\n",
              "      <td>1</td>\n",
              "      <td>距离川沙公路较近,但是公交指示不对,如果是\"蔡陆线\"的话,会非常麻烦.建议用别的路线.房间较...</td>\n",
              "    </tr>\n",
              "    <tr>\n",
              "      <th>1</th>\n",
              "      <td>1</td>\n",
              "      <td>商务大床房，房间很大，床有2M宽，整体感觉经济实惠不错!</td>\n",
              "    </tr>\n",
              "    <tr>\n",
              "      <th>2</th>\n",
              "      <td>1</td>\n",
              "      <td>早餐太差，无论去多少人，那边也不加食品的。酒店应该重视一下这个问题了。房间本身很好。</td>\n",
              "    </tr>\n",
              "    <tr>\n",
              "      <th>3</th>\n",
              "      <td>1</td>\n",
              "      <td>宾馆在小街道上，不大好找，但还好北京热心同胞很多~宾馆设施跟介绍的差不多，房间很小，确实挺小...</td>\n",
              "    </tr>\n",
              "    <tr>\n",
              "      <th>4</th>\n",
              "      <td>1</td>\n",
              "      <td>CBD中心,周围没什么店铺,说5星有点勉强.不知道为什么卫生间没有电吹风</td>\n",
              "    </tr>\n",
              "  </tbody>\n",
              "</table>\n",
              "</div>"
            ],
            "text/plain": [
              "   label                                             review\n",
              "0      1  距离川沙公路较近,但是公交指示不对,如果是\"蔡陆线\"的话,会非常麻烦.建议用别的路线.房间较...\n",
              "1      1                       商务大床房，房间很大，床有2M宽，整体感觉经济实惠不错!\n",
              "2      1         早餐太差，无论去多少人，那边也不加食品的。酒店应该重视一下这个问题了。房间本身很好。\n",
              "3      1  宾馆在小街道上，不大好找，但还好北京热心同胞很多~宾馆设施跟介绍的差不多，房间很小，确实挺小...\n",
              "4      1               CBD中心,周围没什么店铺,说5星有点勉强.不知道为什么卫生间没有电吹风"
            ]
          },
          "metadata": {
            "tags": []
          },
          "execution_count": 3
        }
      ]
    },
    {
      "cell_type": "code",
      "metadata": {
        "colab": {
          "base_uri": "https://localhost:8080/",
          "height": 204
        },
        "id": "dAUvavFqAfO4",
        "outputId": "f7889fd7-bbec-4c1c-e170-5de22b3ed357"
      },
      "source": [
        "data.tail()"
      ],
      "execution_count": null,
      "outputs": [
        {
          "output_type": "execute_result",
          "data": {
            "text/html": [
              "<div>\n",
              "<style scoped>\n",
              "    .dataframe tbody tr th:only-of-type {\n",
              "        vertical-align: middle;\n",
              "    }\n",
              "\n",
              "    .dataframe tbody tr th {\n",
              "        vertical-align: top;\n",
              "    }\n",
              "\n",
              "    .dataframe thead th {\n",
              "        text-align: right;\n",
              "    }\n",
              "</style>\n",
              "<table border=\"1\" class=\"dataframe\">\n",
              "  <thead>\n",
              "    <tr style=\"text-align: right;\">\n",
              "      <th></th>\n",
              "      <th>label</th>\n",
              "      <th>review</th>\n",
              "    </tr>\n",
              "  </thead>\n",
              "  <tbody>\n",
              "    <tr>\n",
              "      <th>7761</th>\n",
              "      <td>0</td>\n",
              "      <td>尼斯酒店的几大特点：噪音大、环境差、配置低、服务效率低。如：1、隔壁歌厅的声音闹至午夜3点许...</td>\n",
              "    </tr>\n",
              "    <tr>\n",
              "      <th>7762</th>\n",
              "      <td>0</td>\n",
              "      <td>盐城来了很多次，第一次住盐阜宾馆，我的确很失望整个墙壁黑咕隆咚的，好像被烟熏过一样家具非常的...</td>\n",
              "    </tr>\n",
              "    <tr>\n",
              "      <th>7763</th>\n",
              "      <td>0</td>\n",
              "      <td>看照片觉得还挺不错的，又是4星级的，但入住以后除了后悔没有别的，房间挺大但空空的，早餐是有但...</td>\n",
              "    </tr>\n",
              "    <tr>\n",
              "      <th>7764</th>\n",
              "      <td>0</td>\n",
              "      <td>我们去盐城的时候那里的最低气温只有4度，晚上冷得要死，居然还不开空调，投诉到酒店客房部，得到...</td>\n",
              "    </tr>\n",
              "    <tr>\n",
              "      <th>7765</th>\n",
              "      <td>0</td>\n",
              "      <td>说实在的我很失望，之前看了其他人的点评后觉得还可以才去的，结果让我们大跌眼镜。我想这家酒店以...</td>\n",
              "    </tr>\n",
              "  </tbody>\n",
              "</table>\n",
              "</div>"
            ],
            "text/plain": [
              "      label                                             review\n",
              "7761      0  尼斯酒店的几大特点：噪音大、环境差、配置低、服务效率低。如：1、隔壁歌厅的声音闹至午夜3点许...\n",
              "7762      0  盐城来了很多次，第一次住盐阜宾馆，我的确很失望整个墙壁黑咕隆咚的，好像被烟熏过一样家具非常的...\n",
              "7763      0  看照片觉得还挺不错的，又是4星级的，但入住以后除了后悔没有别的，房间挺大但空空的，早餐是有但...\n",
              "7764      0  我们去盐城的时候那里的最低气温只有4度，晚上冷得要死，居然还不开空调，投诉到酒店客房部，得到...\n",
              "7765      0  说实在的我很失望，之前看了其他人的点评后觉得还可以才去的，结果让我们大跌眼镜。我想这家酒店以..."
            ]
          },
          "metadata": {
            "tags": []
          },
          "execution_count": 4
        }
      ]
    },
    {
      "cell_type": "code",
      "metadata": {
        "colab": {
          "base_uri": "https://localhost:8080/"
        },
        "id": "oYiTp9RBLa6j",
        "outputId": "6b3f130c-db90-476f-dd86-a997218ac461"
      },
      "source": [
        "data.info()\n"
      ],
      "execution_count": null,
      "outputs": [
        {
          "output_type": "stream",
          "text": [
            "<class 'pandas.core.frame.DataFrame'>\n",
            "RangeIndex: 7766 entries, 0 to 7765\n",
            "Data columns (total 2 columns):\n",
            " #   Column  Non-Null Count  Dtype \n",
            "---  ------  --------------  ----- \n",
            " 0   label   7766 non-null   int64 \n",
            " 1   review  7765 non-null   object\n",
            "dtypes: int64(1), object(1)\n",
            "memory usage: 121.5+ KB\n"
          ],
          "name": "stdout"
        }
      ]
    },
    {
      "cell_type": "code",
      "metadata": {
        "id": "qYYHN2mzMj5c"
      },
      "source": [
        "data['review'] = data['review'].astype(str) "
      ],
      "execution_count": null,
      "outputs": []
    },
    {
      "cell_type": "code",
      "metadata": {
        "id": "NHr4R7QsAfdD"
      },
      "source": [
        "import jieba"
      ],
      "execution_count": null,
      "outputs": []
    },
    {
      "cell_type": "code",
      "metadata": {
        "colab": {
          "base_uri": "https://localhost:8080/"
        },
        "id": "lX_ndsP7L7gJ",
        "outputId": "ec987982-46ff-4546-9420-9c3791ae71a0"
      },
      "source": [
        "jieba.lcut(data.review[4])"
      ],
      "execution_count": null,
      "outputs": [
        {
          "output_type": "stream",
          "text": [
            "Building prefix dict from the default dictionary ...\n",
            "Dumping model to file cache /tmp/jieba.cache\n",
            "Loading model cost 1.062 seconds.\n",
            "Prefix dict has been built successfully.\n"
          ],
          "name": "stderr"
        },
        {
          "output_type": "execute_result",
          "data": {
            "text/plain": [
              "['CBD',\n",
              " '中心',\n",
              " ',',\n",
              " '周围',\n",
              " '没什么',\n",
              " '店铺',\n",
              " ',',\n",
              " '说',\n",
              " '5',\n",
              " '星',\n",
              " '有点',\n",
              " '勉强',\n",
              " '.',\n",
              " '不',\n",
              " '知道',\n",
              " '为什么',\n",
              " '卫生间',\n",
              " '没有',\n",
              " '电吹风']"
            ]
          },
          "metadata": {
            "tags": []
          },
          "execution_count": 8
        }
      ]
    },
    {
      "cell_type": "code",
      "metadata": {
        "colab": {
          "base_uri": "https://localhost:8080/"
        },
        "id": "98Vr27ouAff9",
        "outputId": "bdf6f94f-d84a-4c13-9c57-402d102888da"
      },
      "source": [
        "#全部一起斷\n",
        "data.review.apply(jieba.lcut)"
      ],
      "execution_count": null,
      "outputs": [
        {
          "output_type": "execute_result",
          "data": {
            "text/plain": [
              "0       [距离, 川沙, 公路, 较近, ,, 但是, 公交, 指示, 不, 对, ,, 如果, 是...\n",
              "1       [商务, 大床, 房, ，, 房间, 很大, ，, 床有, 2M, 宽, ，, 整体, 感觉...\n",
              "2       [早餐, 太, 差, ，, 无论, 去, 多少, 人, ，, 那边, 也, 不加, 食品, ...\n",
              "3       [宾馆, 在, 小, 街道, 上, ，, 不大好, 找, ，, 但, 还好, 北京, 热心,...\n",
              "4       [CBD, 中心, ,, 周围, 没什么, 店铺, ,, 说, 5, 星, 有点, 勉强, ...\n",
              "                              ...                        \n",
              "7761    [尼斯, 酒店, 的, 几大, 特点, ：, 噪音, 大, 、, 环境, 差, 、, 配置,...\n",
              "7762    [盐城, 来, 了, 很, 多次, ，, 第一次, 住, 盐阜, 宾馆, ，, 我, 的确,...\n",
              "7763    [看, 照片, 觉得, 还, 挺不错, 的, ，, 又, 是, 4, 星级, 的, ，, 但...\n",
              "7764    [我们, 去, 盐城, 的, 时候, 那里, 的, 最低气温, 只有, 4, 度, ，, 晚...\n",
              "7765    [说, 实在, 的, 我, 很, 失望, ，, 之前, 看, 了, 其他人, 的, 点评, ...\n",
              "Name: review, Length: 7766, dtype: object"
            ]
          },
          "metadata": {
            "tags": []
          },
          "execution_count": 9
        }
      ]
    },
    {
      "cell_type": "code",
      "metadata": {
        "colab": {
          "base_uri": "https://localhost:8080/",
          "height": 289
        },
        "id": "3Bdl4mU9Afin",
        "outputId": "b6c1531a-edd6-47b4-ebed-aa988691d5c4"
      },
      "source": [
        "#增加text column\n",
        "data['text'] = data.review.apply(lambda sen: jieba.lcut(sen))\n",
        "data.head()"
      ],
      "execution_count": null,
      "outputs": [
        {
          "output_type": "execute_result",
          "data": {
            "text/html": [
              "<div>\n",
              "<style scoped>\n",
              "    .dataframe tbody tr th:only-of-type {\n",
              "        vertical-align: middle;\n",
              "    }\n",
              "\n",
              "    .dataframe tbody tr th {\n",
              "        vertical-align: top;\n",
              "    }\n",
              "\n",
              "    .dataframe thead th {\n",
              "        text-align: right;\n",
              "    }\n",
              "</style>\n",
              "<table border=\"1\" class=\"dataframe\">\n",
              "  <thead>\n",
              "    <tr style=\"text-align: right;\">\n",
              "      <th></th>\n",
              "      <th>label</th>\n",
              "      <th>review</th>\n",
              "      <th>text</th>\n",
              "    </tr>\n",
              "  </thead>\n",
              "  <tbody>\n",
              "    <tr>\n",
              "      <th>0</th>\n",
              "      <td>1</td>\n",
              "      <td>距离川沙公路较近,但是公交指示不对,如果是\"蔡陆线\"的话,会非常麻烦.建议用别的路线.房间较...</td>\n",
              "      <td>[距离, 川沙, 公路, 较近, ,, 但是, 公交, 指示, 不, 对, ,, 如果, 是...</td>\n",
              "    </tr>\n",
              "    <tr>\n",
              "      <th>1</th>\n",
              "      <td>1</td>\n",
              "      <td>商务大床房，房间很大，床有2M宽，整体感觉经济实惠不错!</td>\n",
              "      <td>[商务, 大床, 房, ，, 房间, 很大, ，, 床有, 2M, 宽, ，, 整体, 感觉...</td>\n",
              "    </tr>\n",
              "    <tr>\n",
              "      <th>2</th>\n",
              "      <td>1</td>\n",
              "      <td>早餐太差，无论去多少人，那边也不加食品的。酒店应该重视一下这个问题了。房间本身很好。</td>\n",
              "      <td>[早餐, 太, 差, ，, 无论, 去, 多少, 人, ，, 那边, 也, 不加, 食品, ...</td>\n",
              "    </tr>\n",
              "    <tr>\n",
              "      <th>3</th>\n",
              "      <td>1</td>\n",
              "      <td>宾馆在小街道上，不大好找，但还好北京热心同胞很多~宾馆设施跟介绍的差不多，房间很小，确实挺小...</td>\n",
              "      <td>[宾馆, 在, 小, 街道, 上, ，, 不大好, 找, ，, 但, 还好, 北京, 热心,...</td>\n",
              "    </tr>\n",
              "    <tr>\n",
              "      <th>4</th>\n",
              "      <td>1</td>\n",
              "      <td>CBD中心,周围没什么店铺,说5星有点勉强.不知道为什么卫生间没有电吹风</td>\n",
              "      <td>[CBD, 中心, ,, 周围, 没什么, 店铺, ,, 说, 5, 星, 有点, 勉强, ...</td>\n",
              "    </tr>\n",
              "  </tbody>\n",
              "</table>\n",
              "</div>"
            ],
            "text/plain": [
              "   label  ...                                               text\n",
              "0      1  ...  [距离, 川沙, 公路, 较近, ,, 但是, 公交, 指示, 不, 对, ,, 如果, 是...\n",
              "1      1  ...  [商务, 大床, 房, ，, 房间, 很大, ，, 床有, 2M, 宽, ，, 整体, 感觉...\n",
              "2      1  ...  [早餐, 太, 差, ，, 无论, 去, 多少, 人, ，, 那边, 也, 不加, 食品, ...\n",
              "3      1  ...  [宾馆, 在, 小, 街道, 上, ，, 不大好, 找, ，, 但, 还好, 北京, 热心,...\n",
              "4      1  ...  [CBD, 中心, ,, 周围, 没什么, 店铺, ,, 说, 5, 星, 有点, 勉强, ...\n",
              "\n",
              "[5 rows x 3 columns]"
            ]
          },
          "metadata": {
            "tags": []
          },
          "execution_count": 10
        }
      ]
    },
    {
      "cell_type": "code",
      "metadata": {
        "id": "LloTHGRbAflL"
      },
      "source": [
        "#針對斷詞後的資料分別產生詞向量\n",
        "from gensim.models import Word2Vec"
      ],
      "execution_count": null,
      "outputs": []
    },
    {
      "cell_type": "code",
      "metadata": {
        "id": "no2FC4K6Afn8"
      },
      "source": [
        "myWord2Vec = Word2Vec(data.text,size=250,iter=10,sg=1,min_count=1)#sg=1為skipgram,250為Z1...-...Z250"
      ],
      "execution_count": null,
      "outputs": []
    },
    {
      "cell_type": "code",
      "metadata": {
        "colab": {
          "base_uri": "https://localhost:8080/"
        },
        "id": "KyObgEfbD94s",
        "outputId": "58b6c04a-d0c3-4646-d195-7de2de48eebf"
      },
      "source": [
        "print(myWord2Vec)"
      ],
      "execution_count": null,
      "outputs": [
        {
          "output_type": "stream",
          "text": [
            "Word2Vec(vocab=29716, size=250, alpha=0.025)\n"
          ],
          "name": "stdout"
        }
      ]
    },
    {
      "cell_type": "code",
      "metadata": {
        "id": "AtRxbL8ZD98U",
        "colab": {
          "base_uri": "https://localhost:8080/"
        },
        "outputId": "a4001358-f995-4d3d-ab03-0b8bd457b87f"
      },
      "source": [
        "#看每一個詞彙經過word2vec運算的結果\n",
        "myWord2Vec.wv.vocab"
      ],
      "execution_count": null,
      "outputs": [
        {
          "output_type": "execute_result",
          "data": {
            "text/plain": [
              "{'距离': <gensim.models.keyedvectors.Vocab at 0x7fc75af4ced0>,\n",
              " '川沙': <gensim.models.keyedvectors.Vocab at 0x7fc75af4cc50>,\n",
              " '公路': <gensim.models.keyedvectors.Vocab at 0x7fc75aed6b90>,\n",
              " '较近': <gensim.models.keyedvectors.Vocab at 0x7fc75aed6c10>,\n",
              " ',': <gensim.models.keyedvectors.Vocab at 0x7fc75aed6310>,\n",
              " '但是': <gensim.models.keyedvectors.Vocab at 0x7fc75aed6290>,\n",
              " '公交': <gensim.models.keyedvectors.Vocab at 0x7fc75aed6bd0>,\n",
              " '指示': <gensim.models.keyedvectors.Vocab at 0x7fc75aed6c50>,\n",
              " '不': <gensim.models.keyedvectors.Vocab at 0x7fc75aed6350>,\n",
              " '对': <gensim.models.keyedvectors.Vocab at 0x7fc75aed61d0>,\n",
              " '如果': <gensim.models.keyedvectors.Vocab at 0x7fc75aed6c90>,\n",
              " '是': <gensim.models.keyedvectors.Vocab at 0x7fc75aed6cd0>,\n",
              " '\"': <gensim.models.keyedvectors.Vocab at 0x7fc75aed6d10>,\n",
              " '蔡陆线': <gensim.models.keyedvectors.Vocab at 0x7fc75aed6d50>,\n",
              " '的话': <gensim.models.keyedvectors.Vocab at 0x7fc75aed6d90>,\n",
              " '会': <gensim.models.keyedvectors.Vocab at 0x7fc75aed6dd0>,\n",
              " '非常': <gensim.models.keyedvectors.Vocab at 0x7fc75aed6e10>,\n",
              " '麻烦': <gensim.models.keyedvectors.Vocab at 0x7fc75aed6e50>,\n",
              " '.': <gensim.models.keyedvectors.Vocab at 0x7fc75aed6e90>,\n",
              " '建议': <gensim.models.keyedvectors.Vocab at 0x7fc75aed6ed0>,\n",
              " '用': <gensim.models.keyedvectors.Vocab at 0x7fc75aed6f10>,\n",
              " '别的': <gensim.models.keyedvectors.Vocab at 0x7fc75aed6f50>,\n",
              " '路线': <gensim.models.keyedvectors.Vocab at 0x7fc75aed6f90>,\n",
              " '房间': <gensim.models.keyedvectors.Vocab at 0x7fc75aed6fd0>,\n",
              " '较为简单': <gensim.models.keyedvectors.Vocab at 0x7fc75aee2050>,\n",
              " '商务': <gensim.models.keyedvectors.Vocab at 0x7fc75aee2090>,\n",
              " '大床': <gensim.models.keyedvectors.Vocab at 0x7fc75aee20d0>,\n",
              " '房': <gensim.models.keyedvectors.Vocab at 0x7fc75aee2110>,\n",
              " '，': <gensim.models.keyedvectors.Vocab at 0x7fc75aee2150>,\n",
              " '很大': <gensim.models.keyedvectors.Vocab at 0x7fc75aee2190>,\n",
              " '床有': <gensim.models.keyedvectors.Vocab at 0x7fc75aee21d0>,\n",
              " '2M': <gensim.models.keyedvectors.Vocab at 0x7fc75aee2210>,\n",
              " '宽': <gensim.models.keyedvectors.Vocab at 0x7fc75aee2250>,\n",
              " '整体': <gensim.models.keyedvectors.Vocab at 0x7fc75aee2290>,\n",
              " '感觉': <gensim.models.keyedvectors.Vocab at 0x7fc75aee22d0>,\n",
              " '经济': <gensim.models.keyedvectors.Vocab at 0x7fc75aee2310>,\n",
              " '实惠': <gensim.models.keyedvectors.Vocab at 0x7fc75aee2350>,\n",
              " '不错': <gensim.models.keyedvectors.Vocab at 0x7fc75aee2390>,\n",
              " '!': <gensim.models.keyedvectors.Vocab at 0x7fc75aee23d0>,\n",
              " '早餐': <gensim.models.keyedvectors.Vocab at 0x7fc75aee2410>,\n",
              " '太': <gensim.models.keyedvectors.Vocab at 0x7fc75aee2450>,\n",
              " '差': <gensim.models.keyedvectors.Vocab at 0x7fc75aee2490>,\n",
              " '无论': <gensim.models.keyedvectors.Vocab at 0x7fc75aee24d0>,\n",
              " '去': <gensim.models.keyedvectors.Vocab at 0x7fc75aee2510>,\n",
              " '多少': <gensim.models.keyedvectors.Vocab at 0x7fc75aee2550>,\n",
              " '人': <gensim.models.keyedvectors.Vocab at 0x7fc75aee2590>,\n",
              " '那边': <gensim.models.keyedvectors.Vocab at 0x7fc75aee25d0>,\n",
              " '也': <gensim.models.keyedvectors.Vocab at 0x7fc75aee2610>,\n",
              " '不加': <gensim.models.keyedvectors.Vocab at 0x7fc75aee2650>,\n",
              " '食品': <gensim.models.keyedvectors.Vocab at 0x7fc75aee2690>,\n",
              " '的': <gensim.models.keyedvectors.Vocab at 0x7fc75aee26d0>,\n",
              " '。': <gensim.models.keyedvectors.Vocab at 0x7fc75aee2710>,\n",
              " '酒店': <gensim.models.keyedvectors.Vocab at 0x7fc75aee2750>,\n",
              " '应该': <gensim.models.keyedvectors.Vocab at 0x7fc75aee2790>,\n",
              " '重视': <gensim.models.keyedvectors.Vocab at 0x7fc75aee27d0>,\n",
              " '一下': <gensim.models.keyedvectors.Vocab at 0x7fc75aee2810>,\n",
              " '这个': <gensim.models.keyedvectors.Vocab at 0x7fc75aee2850>,\n",
              " '问题': <gensim.models.keyedvectors.Vocab at 0x7fc75aee2890>,\n",
              " '了': <gensim.models.keyedvectors.Vocab at 0x7fc75aee28d0>,\n",
              " '本身': <gensim.models.keyedvectors.Vocab at 0x7fc75aee2910>,\n",
              " '很': <gensim.models.keyedvectors.Vocab at 0x7fc75aee2950>,\n",
              " '好': <gensim.models.keyedvectors.Vocab at 0x7fc75aee2990>,\n",
              " '宾馆': <gensim.models.keyedvectors.Vocab at 0x7fc75aee29d0>,\n",
              " '在': <gensim.models.keyedvectors.Vocab at 0x7fc75aee2a10>,\n",
              " '小': <gensim.models.keyedvectors.Vocab at 0x7fc75aee2a50>,\n",
              " '街道': <gensim.models.keyedvectors.Vocab at 0x7fc75aee2a90>,\n",
              " '上': <gensim.models.keyedvectors.Vocab at 0x7fc75aee2ad0>,\n",
              " '不大好': <gensim.models.keyedvectors.Vocab at 0x7fc75aee2b10>,\n",
              " '找': <gensim.models.keyedvectors.Vocab at 0x7fc75aee2b50>,\n",
              " '但': <gensim.models.keyedvectors.Vocab at 0x7fc75aee2b90>,\n",
              " '还好': <gensim.models.keyedvectors.Vocab at 0x7fc75aee2bd0>,\n",
              " '北京': <gensim.models.keyedvectors.Vocab at 0x7fc75aee2c10>,\n",
              " '热心': <gensim.models.keyedvectors.Vocab at 0x7fc75aee2c50>,\n",
              " '同胞': <gensim.models.keyedvectors.Vocab at 0x7fc75aee2c90>,\n",
              " '很多': <gensim.models.keyedvectors.Vocab at 0x7fc75aee2cd0>,\n",
              " '~': <gensim.models.keyedvectors.Vocab at 0x7fc75aee2d10>,\n",
              " '设施': <gensim.models.keyedvectors.Vocab at 0x7fc75aee2d50>,\n",
              " '跟': <gensim.models.keyedvectors.Vocab at 0x7fc75aee2d90>,\n",
              " '介绍': <gensim.models.keyedvectors.Vocab at 0x7fc75aee2dd0>,\n",
              " '差不多': <gensim.models.keyedvectors.Vocab at 0x7fc75aee2e10>,\n",
              " '很小': <gensim.models.keyedvectors.Vocab at 0x7fc75aee2e50>,\n",
              " '确实': <gensim.models.keyedvectors.Vocab at 0x7fc75aee2e90>,\n",
              " '挺': <gensim.models.keyedvectors.Vocab at 0x7fc75aee2ed0>,\n",
              " '加上': <gensim.models.keyedvectors.Vocab at 0x7fc75aee2f10>,\n",
              " '低价位': <gensim.models.keyedvectors.Vocab at 0x7fc75aee2f50>,\n",
              " '因素': <gensim.models.keyedvectors.Vocab at 0x7fc75aee2f90>,\n",
              " '还是': <gensim.models.keyedvectors.Vocab at 0x7fc75aee2fd0>,\n",
              " '无超': <gensim.models.keyedvectors.Vocab at 0x7fc75aee3050>,\n",
              " '所值': <gensim.models.keyedvectors.Vocab at 0x7fc75aee3090>,\n",
              " '；': <gensim.models.keyedvectors.Vocab at 0x7fc75aee30d0>,\n",
              " '环境': <gensim.models.keyedvectors.Vocab at 0x7fc75aee3110>,\n",
              " '就': <gensim.models.keyedvectors.Vocab at 0x7fc75aee3150>,\n",
              " '胡同': <gensim.models.keyedvectors.Vocab at 0x7fc75aee3190>,\n",
              " '内': <gensim.models.keyedvectors.Vocab at 0x7fc75aee31d0>,\n",
              " '安静': <gensim.models.keyedvectors.Vocab at 0x7fc75aee3210>,\n",
              " '整洁': <gensim.models.keyedvectors.Vocab at 0x7fc75aee3250>,\n",
              " '暖气': <gensim.models.keyedvectors.Vocab at 0x7fc75aee3290>,\n",
              " '好足': <gensim.models.keyedvectors.Vocab at 0x7fc75aee32d0>,\n",
              " '-_-': <gensim.models.keyedvectors.Vocab at 0x7fc75aee3310>,\n",
              " '|': <gensim.models.keyedvectors.Vocab at 0x7fc75aee3350>,\n",
              " '呵': <gensim.models.keyedvectors.Vocab at 0x7fc75aee3390>,\n",
              " '还有': <gensim.models.keyedvectors.Vocab at 0x7fc75aee33d0>,\n",
              " '一大': <gensim.models.keyedvectors.Vocab at 0x7fc75aee3410>,\n",
              " '优势': <gensim.models.keyedvectors.Vocab at 0x7fc75aee3450>,\n",
              " '是从': <gensim.models.keyedvectors.Vocab at 0x7fc75aee3490>,\n",
              " '出发': <gensim.models.keyedvectors.Vocab at 0x7fc75aee34d0>,\n",
              " '步行': <gensim.models.keyedvectors.Vocab at 0x7fc75aee3510>,\n",
              " '不到': <gensim.models.keyedvectors.Vocab at 0x7fc75aee3550>,\n",
              " '十分钟': <gensim.models.keyedvectors.Vocab at 0x7fc75aee3590>,\n",
              " '可以': <gensim.models.keyedvectors.Vocab at 0x7fc75aee35d0>,\n",
              " '到': <gensim.models.keyedvectors.Vocab at 0x7fc75aee3610>,\n",
              " '梅兰芳': <gensim.models.keyedvectors.Vocab at 0x7fc75aee3650>,\n",
              " '故居': <gensim.models.keyedvectors.Vocab at 0x7fc75aee3690>,\n",
              " '等等': <gensim.models.keyedvectors.Vocab at 0x7fc75aee36d0>,\n",
              " '京味': <gensim.models.keyedvectors.Vocab at 0x7fc75aee3710>,\n",
              " '北海': <gensim.models.keyedvectors.Vocab at 0x7fc75aee3750>,\n",
              " '好近': <gensim.models.keyedvectors.Vocab at 0x7fc75aee3790>,\n",
              " '呢': <gensim.models.keyedvectors.Vocab at 0x7fc75aee37d0>,\n",
              " '总之': <gensim.models.keyedvectors.Vocab at 0x7fc75aee3810>,\n",
              " '推荐': <gensim.models.keyedvectors.Vocab at 0x7fc75aee3850>,\n",
              " '给': <gensim.models.keyedvectors.Vocab at 0x7fc75aee3890>,\n",
              " '节约': <gensim.models.keyedvectors.Vocab at 0x7fc75aee38d0>,\n",
              " '消费': <gensim.models.keyedvectors.Vocab at 0x7fc75aee3910>,\n",
              " '自助游': <gensim.models.keyedvectors.Vocab at 0x7fc75aee3950>,\n",
              " '朋友': <gensim.models.keyedvectors.Vocab at 0x7fc75aee3990>,\n",
              " '比较': <gensim.models.keyedvectors.Vocab at 0x7fc75aee39d0>,\n",
              " '划算': <gensim.models.keyedvectors.Vocab at 0x7fc75aee3a10>,\n",
              " '附近': <gensim.models.keyedvectors.Vocab at 0x7fc75aee3a50>,\n",
              " '特色小吃': <gensim.models.keyedvectors.Vocab at 0x7fc75aee3a90>,\n",
              " 'CBD': <gensim.models.keyedvectors.Vocab at 0x7fc75aee3ad0>,\n",
              " '中心': <gensim.models.keyedvectors.Vocab at 0x7fc75aee3b10>,\n",
              " '周围': <gensim.models.keyedvectors.Vocab at 0x7fc75aee3b50>,\n",
              " '没什么': <gensim.models.keyedvectors.Vocab at 0x7fc75aee3b90>,\n",
              " '店铺': <gensim.models.keyedvectors.Vocab at 0x7fc75aee3bd0>,\n",
              " '说': <gensim.models.keyedvectors.Vocab at 0x7fc75aee3c10>,\n",
              " '5': <gensim.models.keyedvectors.Vocab at 0x7fc75aee3c50>,\n",
              " '星': <gensim.models.keyedvectors.Vocab at 0x7fc75aee3c90>,\n",
              " '有点': <gensim.models.keyedvectors.Vocab at 0x7fc75aee3cd0>,\n",
              " '勉强': <gensim.models.keyedvectors.Vocab at 0x7fc75aee3d10>,\n",
              " '知道': <gensim.models.keyedvectors.Vocab at 0x7fc75aee3d50>,\n",
              " '为什么': <gensim.models.keyedvectors.Vocab at 0x7fc75aee3d90>,\n",
              " '卫生间': <gensim.models.keyedvectors.Vocab at 0x7fc75aee3dd0>,\n",
              " '没有': <gensim.models.keyedvectors.Vocab at 0x7fc75aee3e10>,\n",
              " '电吹风': <gensim.models.keyedvectors.Vocab at 0x7fc75aee3e50>,\n",
              " '总的来说': <gensim.models.keyedvectors.Vocab at 0x7fc75aee3e90>,\n",
              " '这样': <gensim.models.keyedvectors.Vocab at 0x7fc75aee3ed0>,\n",
              " '配': <gensim.models.keyedvectors.Vocab at 0x7fc75aee3f10>,\n",
              " '价格': <gensim.models.keyedvectors.Vocab at 0x7fc75aee3f50>,\n",
              " '还': <gensim.models.keyedvectors.Vocab at 0x7fc75aee3f90>,\n",
              " '算': <gensim.models.keyedvectors.Vocab at 0x7fc75aee3fd0>,\n",
              " '希望': <gensim.models.keyedvectors.Vocab at 0x7fc75aee7050>,\n",
              " '他': <gensim.models.keyedvectors.Vocab at 0x7fc75aee7090>,\n",
              " '赶快': <gensim.models.keyedvectors.Vocab at 0x7fc75aee70d0>,\n",
              " '装修': <gensim.models.keyedvectors.Vocab at 0x7fc75aee7110>,\n",
              " '我': <gensim.models.keyedvectors.Vocab at 0x7fc75aee7150>,\n",
              " '客人': <gensim.models.keyedvectors.Vocab at 0x7fc75aee7190>,\n",
              " '留些': <gensim.models.keyedvectors.Vocab at 0x7fc75aee71d0>,\n",
              " '印象': <gensim.models.keyedvectors.Vocab at 0x7fc75aee7210>,\n",
              " '价格比': <gensim.models.keyedvectors.Vocab at 0x7fc75aee7250>,\n",
              " '这次': <gensim.models.keyedvectors.Vocab at 0x7fc75aee7290>,\n",
              " '免费': <gensim.models.keyedvectors.Vocab at 0x7fc75aee72d0>,\n",
              " '升级': <gensim.models.keyedvectors.Vocab at 0x7fc75aee7310>,\n",
              " '感谢': <gensim.models.keyedvectors.Vocab at 0x7fc75aee7350>,\n",
              " '前台': <gensim.models.keyedvectors.Vocab at 0x7fc75aee7390>,\n",
              " '服务员': <gensim.models.keyedvectors.Vocab at 0x7fc75aee73d0>,\n",
              " '房子': <gensim.models.keyedvectors.Vocab at 0x7fc75aee7410>,\n",
              " '地毯': <gensim.models.keyedvectors.Vocab at 0x7fc75aee7450>,\n",
              " '新': <gensim.models.keyedvectors.Vocab at 0x7fc75aee7490>,\n",
              " '比': <gensim.models.keyedvectors.Vocab at 0x7fc75aee74d0>,\n",
              " '上次': <gensim.models.keyedvectors.Vocab at 0x7fc75aee7510>,\n",
              " '好些': <gensim.models.keyedvectors.Vocab at 0x7fc75aee7550>,\n",
              " '要': <gensim.models.keyedvectors.Vocab at 0x7fc75aee7590>,\n",
              " '早': <gensim.models.keyedvectors.Vocab at 0x7fc75aee75d0>,\n",
              " '些': <gensim.models.keyedvectors.Vocab at 0x7fc75aee7610>,\n",
              " '同等': <gensim.models.keyedvectors.Vocab at 0x7fc75aee7650>,\n",
              " '档次': <gensim.models.keyedvectors.Vocab at 0x7fc75aee7690>,\n",
              " '中': <gensim.models.keyedvectors.Vocab at 0x7fc75aee76d0>,\n",
              " '值得': <gensim.models.keyedvectors.Vocab at 0x7fc75aee7710>,\n",
              " '！': <gensim.models.keyedvectors.Vocab at 0x7fc75aee7750>,\n",
              " '入住': <gensim.models.keyedvectors.Vocab at 0x7fc75aee7790>,\n",
              " '丽晶': <gensim.models.keyedvectors.Vocab at 0x7fc75aee77d0>,\n",
              " '因为': <gensim.models.keyedvectors.Vocab at 0x7fc75aee7810>,\n",
              " '的确': <gensim.models.keyedvectors.Vocab at 0x7fc75aee7850>,\n",
              " '有': <gensim.models.keyedvectors.Vocab at 0x7fc75aee7890>,\n",
              " '淡淡的': <gensim.models.keyedvectors.Vocab at 0x7fc75aee78d0>,\n",
              " '油漆味': <gensim.models.keyedvectors.Vocab at 0x7fc75aee7910>,\n",
              " '房间内': <gensim.models.keyedvectors.Vocab at 0x7fc75aee7950>,\n",
              " '较': <gensim.models.keyedvectors.Vocab at 0x7fc75aee7990>,\n",
              " '大小': <gensim.models.keyedvectors.Vocab at 0x7fc75aee79d0>,\n",
              " '合适': <gensim.models.keyedvectors.Vocab at 0x7fc75aee7a10>,\n",
              " '设备齐全': <gensim.models.keyedvectors.Vocab at 0x7fc75aee7a50>,\n",
              " '服务态度': <gensim.models.keyedvectors.Vocab at 0x7fc75aee7a90>,\n",
              " '网速': <gensim.models.keyedvectors.Vocab at 0x7fc75aee7ad0>,\n",
              " '可能': <gensim.models.keyedvectors.Vocab at 0x7fc75aee7b10>,\n",
              " '提升': <gensim.models.keyedvectors.Vocab at 0x7fc75aee7b50>,\n",
              " '吧': <gensim.models.keyedvectors.Vocab at 0x7fc75aee7b90>,\n",
              " '插': <gensim.models.keyedvectors.Vocab at 0x7fc75aee7bd0>,\n",
              " '线板': <gensim.models.keyedvectors.Vocab at 0x7fc75aee7c10>,\n",
              " '、': <gensim.models.keyedvectors.Vocab at 0x7fc75aee7c50>,\n",
              " '水果刀': <gensim.models.keyedvectors.Vocab at 0x7fc75aee7c90>,\n",
              " '等': <gensim.models.keyedvectors.Vocab at 0x7fc75aee7cd0>,\n",
              " '一系列': <gensim.models.keyedvectors.Vocab at 0x7fc75aee7d10>,\n",
              " '日常用品': <gensim.models.keyedvectors.Vocab at 0x7fc75aee7d50>,\n",
              " '提供': <gensim.models.keyedvectors.Vocab at 0x7fc75aee7d90>,\n",
              " '细心': <gensim.models.keyedvectors.Vocab at 0x7fc75aee7dd0>,\n",
              " '晚上': <gensim.models.keyedvectors.Vocab at 0x7fc75aee7e10>,\n",
              " '自助餐': <gensim.models.keyedvectors.Vocab at 0x7fc75aee7e50>,\n",
              " '每人': <gensim.models.keyedvectors.Vocab at 0x7fc75aee7e90>,\n",
              " '68': <gensim.models.keyedvectors.Vocab at 0x7fc75aee7ed0>,\n",
              " '元': <gensim.models.keyedvectors.Vocab at 0x7fc75aee7f10>,\n",
              " '菜品': <gensim.models.keyedvectors.Vocab at 0x7fc75aee7f50>,\n",
              " '一般': <gensim.models.keyedvectors.Vocab at 0x7fc75aee7f90>,\n",
              " '就算': <gensim.models.keyedvectors.Vocab at 0x7fc75aee7fd0>,\n",
              " '过去': <gensim.models.keyedvectors.Vocab at 0x7fc75aeeb050>,\n",
              " '外有': <gensim.models.keyedvectors.Vocab at 0x7fc75aeeb090>,\n",
              " '西贝筱面': <gensim.models.keyedvectors.Vocab at 0x7fc75af32910>,\n",
              " '几家': <gensim.models.keyedvectors.Vocab at 0x7fc75c00ca10>,\n",
              " '饭馆': <gensim.models.keyedvectors.Vocab at 0x7fc76b0aa390>,\n",
              " '西贝': <gensim.models.keyedvectors.Vocab at 0x7fc76b0aac50>,\n",
              " '菜': <gensim.models.keyedvectors.Vocab at 0x7fc76b0aa290>,\n",
              " '实在': <gensim.models.keyedvectors.Vocab at 0x7fc75e58f450>,\n",
              " '量': <gensim.models.keyedvectors.Vocab at 0x7fc76e19fc10>,\n",
              " '大': <gensim.models.keyedvectors.Vocab at 0x7fc76e19fa10>,\n",
              " '惊人': <gensim.models.keyedvectors.Vocab at 0x7fc76e19fad0>,\n",
              " '人多': <gensim.models.keyedvectors.Vocab at 0x7fc76e19fcd0>,\n",
              " '吃': <gensim.models.keyedvectors.Vocab at 0x7fc76e19ff10>,\n",
              " '不如': <gensim.models.keyedvectors.Vocab at 0x7fc76e19fbd0>,\n",
              " '21': <gensim.models.keyedvectors.Vocab at 0x7fc76e19fe50>,\n",
              " '：': <gensim.models.keyedvectors.Vocab at 0x7fc76e19fdd0>,\n",
              " '30': <gensim.models.keyedvectors.Vocab at 0x7fc76e19f690>,\n",
              " '-': <gensim.models.keyedvectors.Vocab at 0x7fc76e19f7d0>,\n",
              " '24': <gensim.models.keyedvectors.Vocab at 0x7fc76e19f890>,\n",
              " '点有': <gensim.models.keyedvectors.Vocab at 0x7fc76e19ff50>,\n",
              " '广式': <gensim.models.keyedvectors.Vocab at 0x7fc76e19ffd0>,\n",
              " '晚茶': <gensim.models.keyedvectors.Vocab at 0x7fc76e19fed0>,\n",
              " '过': <gensim.models.keyedvectors.Vocab at 0x7fc76e19ff90>,\n",
              " '几次': <gensim.models.keyedvectors.Vocab at 0x7fc76e19fd90>,\n",
              " '味道': <gensim.models.keyedvectors.Vocab at 0x7fc76e19fb10>,\n",
              " '正宗': <gensim.models.keyedvectors.Vocab at 0x7fc76e19fc90>,\n",
              " '就是': <gensim.models.keyedvectors.Vocab at 0x7fc76e19fe10>,\n",
              " '点心': <gensim.models.keyedvectors.Vocab at 0x7fc76e19fb90>,\n",
              " '品种': <gensim.models.keyedvectors.Vocab at 0x7fc76e19f5d0>,\n",
              " '略少': <gensim.models.keyedvectors.Vocab at 0x7fc76b46c490>,\n",
              " '哈': <gensim.models.keyedvectors.Vocab at 0x7fc76b0ec750>,\n",
              " '地处': <gensim.models.keyedvectors.Vocab at 0x7fc76b0ecdd0>,\n",
              " '青山区': <gensim.models.keyedvectors.Vocab at 0x7fc76b0eca50>,\n",
              " '包头': <gensim.models.keyedvectors.Vocab at 0x7fc76b0ecf10>,\n",
              " '分昆区': <gensim.models.keyedvectors.Vocab at 0x7fc76b0ecb50>,\n",
              " '相对来说': <gensim.models.keyedvectors.Vocab at 0x7fc76b0ecad0>,\n",
              " '昆区': <gensim.models.keyedvectors.Vocab at 0x7fc76b0ecd10>,\n",
              " '最': <gensim.models.keyedvectors.Vocab at 0x7fc75aeeb0d0>,\n",
              " '繁华': <gensim.models.keyedvectors.Vocab at 0x7fc75aeeb110>,\n",
              " '次之': <gensim.models.keyedvectors.Vocab at 0x7fc75aeeb150>,\n",
              " '像': <gensim.models.keyedvectors.Vocab at 0x7fc75aeeb190>,\n",
              " '包百等': <gensim.models.keyedvectors.Vocab at 0x7fc75aeeb1d0>,\n",
              " '商场': <gensim.models.keyedvectors.Vocab at 0x7fc75aeeb210>,\n",
              " '全在': <gensim.models.keyedvectors.Vocab at 0x7fc75aeeb250>,\n",
              " '从': <gensim.models.keyedvectors.Vocab at 0x7fc75aeeb290>,\n",
              " '打车': <gensim.models.keyedvectors.Vocab at 0x7fc75aeeb2d0>,\n",
              " '包百': <gensim.models.keyedvectors.Vocab at 0x7fc75aeeb310>,\n",
              " '商圈': <gensim.models.keyedvectors.Vocab at 0x7fc75aeeb350>,\n",
              " '车费': <gensim.models.keyedvectors.Vocab at 0x7fc75aeeb390>,\n",
              " '12': <gensim.models.keyedvectors.Vocab at 0x7fc75aeeb3d0>,\n",
              " '元多': <gensim.models.keyedvectors.Vocab at 0x7fc75aeeb410>,\n",
              " '一个': <gensim.models.keyedvectors.Vocab at 0x7fc75aeeb450>,\n",
              " '王府井': <gensim.models.keyedvectors.Vocab at 0x7fc75aeeb490>,\n",
              " '百货': <gensim.models.keyedvectors.Vocab at 0x7fc75aeeb4d0>,\n",
              " '略': <gensim.models.keyedvectors.Vocab at 0x7fc75aeeb510>,\n",
              " '8': <gensim.models.keyedvectors.Vocab at 0x7fc75aeeb550>,\n",
              " '银河': <gensim.models.keyedvectors.Vocab at 0x7fc75aeeb590>,\n",
              " '广场': <gensim.models.keyedvectors.Vocab at 0x7fc75aeeb5d0>,\n",
              " '离': <gensim.models.keyedvectors.Vocab at 0x7fc75aeeb610>,\n",
              " '一段距离': <gensim.models.keyedvectors.Vocab at 0x7fc75aeeb650>,\n",
              " '9': <gensim.models.keyedvectors.Vocab at 0x7fc75aeeb690>,\n",
              " '10': <gensim.models.keyedvectors.Vocab at 0x7fc75aeeb6d0>,\n",
              " '边上': <gensim.models.keyedvectors.Vocab at 0x7fc75aeeb710>,\n",
              " '“': <gensim.models.keyedvectors.Vocab at 0x7fc75aeeb750>,\n",
              " '科丽珑': <gensim.models.keyedvectors.Vocab at 0x7fc75aeeb790>,\n",
              " '”': <gensim.models.keyedvectors.Vocab at 0x7fc75aeeb7d0>,\n",
              " '小时': <gensim.models.keyedvectors.Vocab at 0x7fc75aeeb810>,\n",
              " '营业': <gensim.models.keyedvectors.Vocab at 0x7fc75aeeb850>,\n",
              " '超市': <gensim.models.keyedvectors.Vocab at 0x7fc75aeeb890>,\n",
              " '一楼': <gensim.models.keyedvectors.Vocab at 0x7fc75aeeb8d0>,\n",
              " '小卖部': <gensim.models.keyedvectors.Vocab at 0x7fc75aeeb910>,\n",
              " '基本': <gensim.models.keyedvectors.Vocab at 0x7fc75aeeb950>,\n",
              " '住': <gensim.models.keyedvectors.Vocab at 0x7fc75aeeb990>,\n",
              " '正赶上': <gensim.models.keyedvectors.Vocab at 0x7fc75aeeb9d0>,\n",
              " '公司': <gensim.models.keyedvectors.Vocab at 0x7fc75aeeba10>,\n",
              " '这里': <gensim.models.keyedvectors.Vocab at 0x7fc75aeeba50>,\n",
              " '开会': <gensim.models.keyedvectors.Vocab at 0x7fc75aeeba90>,\n",
              " '有时': <gensim.models.keyedvectors.Vocab at 0x7fc75aeebad0>,\n",
              " '楼道': <gensim.models.keyedvectors.Vocab at 0x7fc75aeebb10>,\n",
              " '里略': <gensim.models.keyedvectors.Vocab at 0x7fc75aeebb50>,\n",
              " '吵': <gensim.models.keyedvectors.Vocab at 0x7fc75aeebb90>,\n",
              " '有人': <gensim.models.keyedvectors.Vocab at 0x7fc75aeebbd0>,\n",
              " '敲': <gensim.models.keyedvectors.Vocab at 0x7fc75aeebc10>,\n",
              " '错门': <gensim.models.keyedvectors.Vocab at 0x7fc75aeebc50>,\n",
              " '理论': <gensim.models.keyedvectors.Vocab at 0x7fc75aeebc90>,\n",
              " '与': <gensim.models.keyedvectors.Vocab at 0x7fc75aeebcd0>,\n",
              " '管理': <gensim.models.keyedvectors.Vocab at 0x7fc75aeebd10>,\n",
              " '没关系': <gensim.models.keyedvectors.Vocab at 0x7fc75aeebd50>,\n",
              " '以后': <gensim.models.keyedvectors.Vocab at 0x7fc75aeebd90>,\n",
              " '尽量': <gensim.models.keyedvectors.Vocab at 0x7fc75aeebdd0>,\n",
              " '让': <gensim.models.keyedvectors.Vocab at 0x7fc75aeebe10>,\n",
              " '会议': <gensim.models.keyedvectors.Vocab at 0x7fc75aeebe50>,\n",
              " '团体': <gensim.models.keyedvectors.Vocab at 0x7fc75aeebe90>,\n",
              " '一层': <gensim.models.keyedvectors.Vocab at 0x7fc75aeebed0>,\n",
              " '也许': <gensim.models.keyedvectors.Vocab at 0x7fc75aeebf10>,\n",
              " '总体': <gensim.models.keyedvectors.Vocab at 0x7fc75aeebf50>,\n",
              " '来': <gensim.models.keyedvectors.Vocab at 0x7fc75aeebf90>,\n",
              " '还会': <gensim.models.keyedvectors.Vocab at 0x7fc75aeebfd0>,\n",
              " '1': <gensim.models.keyedvectors.Vocab at 0x7fc75aeee050>,\n",
              " '装潢': <gensim.models.keyedvectors.Vocab at 0x7fc75aeee090>,\n",
              " '和': <gensim.models.keyedvectors.Vocab at 0x7fc75aeee0d0>,\n",
              " '只是': <gensim.models.keyedvectors.Vocab at 0x7fc75aeee110>,\n",
              " '有些': <gensim.models.keyedvectors.Vocab at 0x7fc75aeee150>,\n",
              " '2': <gensim.models.keyedvectors.Vocab at 0x7fc75aeee190>,\n",
              " '不是': <gensim.models.keyedvectors.Vocab at 0x7fc75aeee1d0>,\n",
              " '3': <gensim.models.keyedvectors.Vocab at 0x7fc75aeee210>,\n",
              " '交通': <gensim.models.keyedvectors.Vocab at 0x7fc75aeee250>,\n",
              " '方便': <gensim.models.keyedvectors.Vocab at 0x7fc75aeee290>,\n",
              " '饭店': <gensim.models.keyedvectors.Vocab at 0x7fc75aeee2d0>,\n",
              " '多': <gensim.models.keyedvectors.Vocab at 0x7fc75aeee310>,\n",
              " '特色': <gensim.models.keyedvectors.Vocab at 0x7fc75aeee350>,\n",
              " '标间': <gensim.models.keyedvectors.Vocab at 0x7fc75aeee390>,\n",
              " '所谓': <gensim.models.keyedvectors.Vocab at 0x7fc75aeee3d0>,\n",
              " '类似': <gensim.models.keyedvectors.Vocab at 0x7fc75aeee410>,\n",
              " '家': <gensim.models.keyedvectors.Vocab at 0x7fc75aeee450>,\n",
              " '寝具': <gensim.models.keyedvectors.Vocab at 0x7fc75aeee490>,\n",
              " '单调': <gensim.models.keyedvectors.Vocab at 0x7fc75aeee4d0>,\n",
              " '白色': <gensim.models.keyedvectors.Vocab at 0x7fc75aeee510>,\n",
              " '条纹': <gensim.models.keyedvectors.Vocab at 0x7fc75aeee550>,\n",
              " '格子': <gensim.models.keyedvectors.Vocab at 0x7fc75aeee590>,\n",
              " '温馨': <gensim.models.keyedvectors.Vocab at 0x7fc75aeee5d0>,\n",
              " '圈儿': <gensim.models.keyedvectors.Vocab at 0x7fc75aeee610>,\n",
              " '椅': <gensim.models.keyedvectors.Vocab at 0x7fc75aeee650>,\n",
              " '靠垫': <gensim.models.keyedvectors.Vocab at 0x7fc75aeee690>,\n",
              " '卡通': <gensim.models.keyedvectors.Vocab at 0x7fc75aeee6d0>,\n",
              " '加菲猫': <gensim.models.keyedvectors.Vocab at 0x7fc75aeee710>,\n",
              " '头': <gensim.models.keyedvectors.Vocab at 0x7fc75aeee750>,\n",
              " '明黄': <gensim.models.keyedvectors.Vocab at 0x7fc75aeee790>,\n",
              " '颜色': <gensim.models.keyedvectors.Vocab at 0x7fc75aeee7d0>,\n",
              " '扎眼': <gensim.models.keyedvectors.Vocab at 0x7fc75aeee810>,\n",
              " '配在一起': <gensim.models.keyedvectors.Vocab at 0x7fc75aeee850>,\n",
              " '协调': <gensim.models.keyedvectors.Vocab at 0x7fc75aeee890>,\n",
              " '客房': <gensim.models.keyedvectors.Vocab at 0x7fc75aeee8d0>,\n",
              " '硬件': <gensim.models.keyedvectors.Vocab at 0x7fc75aeee910>,\n",
              " '评价': <gensim.models.keyedvectors.Vocab at 0x7fc75aeee950>,\n",
              " '3.5': <gensim.models.keyedvectors.Vocab at 0x7fc75aeee990>,\n",
              " '分': <gensim.models.keyedvectors.Vocab at 0x7fc75aeee9d0>,\n",
              " '加湿器': <gensim.models.keyedvectors.Vocab at 0x7fc75aeeea10>,\n",
              " '烫衣': <gensim.models.keyedvectors.Vocab at 0x7fc75aeeea50>,\n",
              " '板': <gensim.models.keyedvectors.Vocab at 0x7fc75aeeea90>,\n",
              " '电熨斗': <gensim.models.keyedvectors.Vocab at 0x7fc75aeeead0>,\n",
              " '吹风机': <gensim.models.keyedvectors.Vocab at 0x7fc75aeeeb10>,\n",
              " '冰箱': <gensim.models.keyedvectors.Vocab at 0x7fc75aeeeb50>,\n",
              " '俱全': <gensim.models.keyedvectors.Vocab at 0x7fc75aeeeb90>,\n",
              " '缺点': <gensim.models.keyedvectors.Vocab at 0x7fc75aeeebd0>,\n",
              " '液晶电视': <gensim.models.keyedvectors.Vocab at 0x7fc75aeeec10>,\n",
              " '固定': <gensim.models.keyedvectors.Vocab at 0x7fc75aeeec50>,\n",
              " '墙上': <gensim.models.keyedvectors.Vocab at 0x7fc75aeeec90>,\n",
              " '位置': <gensim.models.keyedvectors.Vocab at 0x7fc75aeeecd0>,\n",
              " '不好': <gensim.models.keyedvectors.Vocab at 0x7fc75aeeed10>,\n",
              " '一是': <gensim.models.keyedvectors.Vocab at 0x7fc75aeeed50>,\n",
              " '遮挡': <gensim.models.keyedvectors.Vocab at 0x7fc75aeeed90>,\n",
              " '电源插座': <gensim.models.keyedvectors.Vocab at 0x7fc75aeeedd0>,\n",
              " '二是': <gensim.models.keyedvectors.Vocab at 0x7fc75aeeee10>,\n",
              " '桌子': <gensim.models.keyedvectors.Vocab at 0x7fc75aeeee50>,\n",
              " '搭配': <gensim.models.keyedvectors.Vocab at 0x7fc75aeeee90>,\n",
              " '不当': <gensim.models.keyedvectors.Vocab at 0x7fc75aeeeed0>,\n",
              " '（': <gensim.models.keyedvectors.Vocab at 0x7fc75aeeef10>,\n",
              " '柜': <gensim.models.keyedvectors.Vocab at 0x7fc75aeeef50>,\n",
              " '一体': <gensim.models.keyedvectors.Vocab at 0x7fc75aeeef90>,\n",
              " '）': <gensim.models.keyedvectors.Vocab at 0x7fc75aeeefd0>,\n",
              " '电视': <gensim.models.keyedvectors.Vocab at 0x7fc75aef2050>,\n",
              " '下方': <gensim.models.keyedvectors.Vocab at 0x7fc75aef2090>,\n",
              " '坐在': <gensim.models.keyedvectors.Vocab at 0x7fc75aef20d0>,\n",
              " '旁': <gensim.models.keyedvectors.Vocab at 0x7fc75aef2110>,\n",
              " '上网': <gensim.models.keyedvectors.Vocab at 0x7fc75aef2150>,\n",
              " '或': <gensim.models.keyedvectors.Vocab at 0x7fc75aef2190>,\n",
              " '工作': <gensim.models.keyedvectors.Vocab at 0x7fc75aef21d0>,\n",
              " '学习': <gensim.models.keyedvectors.Vocab at 0x7fc75aef2210>,\n",
              " '正好': <gensim.models.keyedvectors.Vocab at 0x7fc75aef2250>,\n",
              " '挡住': <gensim.models.keyedvectors.Vocab at 0x7fc75aef2290>,\n",
              " '电视屏幕': <gensim.models.keyedvectors.Vocab at 0x7fc75aef22d0>,\n",
              " '错开': <gensim.models.keyedvectors.Vocab at 0x7fc75aef2310>,\n",
              " '坐': <gensim.models.keyedvectors.Vocab at 0x7fc75aef2350>,\n",
              " '腿脚': <gensim.models.keyedvectors.Vocab at 0x7fc75aef2390>,\n",
              " '伸不开': <gensim.models.keyedvectors.Vocab at 0x7fc75aef23d0>,\n",
              " '丰富': <gensim.models.keyedvectors.Vocab at 0x7fc75aef2410>,\n",
              " '服务': <gensim.models.keyedvectors.Vocab at 0x7fc75aef2450>,\n",
              " '热情': <gensim.models.keyedvectors.Vocab at 0x7fc75aef2490>,\n",
              " '早上': <gensim.models.keyedvectors.Vocab at 0x7fc75aef24d0>,\n",
              " '很早': <gensim.models.keyedvectors.Vocab at 0x7fc75aef2510>,\n",
              " '退房': <gensim.models.keyedvectors.Vocab at 0x7fc75aef2550>,\n",
              " '时': <gensim.models.keyedvectors.Vocab at 0x7fc75aef2590>,\n",
              " '值此': <gensim.models.keyedvectors.Vocab at 0x7fc75aef25d0>,\n",
              " '人员': <gensim.models.keyedvectors.Vocab at 0x7fc75aef2610>,\n",
              " '办理手续': <gensim.models.keyedvectors.Vocab at 0x7fc75aef2650>,\n",
              " '快': <gensim.models.keyedvectors.Vocab at 0x7fc75aef2690>,\n",
              " '．': <gensim.models.keyedvectors.Vocab at 0x7fc75aef26d0>,\n",
              " '308': <gensim.models.keyedvectors.Vocab at 0x7fc75aef2710>,\n",
              " '行政': <gensim.models.keyedvectors.Vocab at 0x7fc75aef2750>,\n",
              " '稍许': <gensim.models.keyedvectors.Vocab at 0x7fc75aef2790>,\n",
              " '高': <gensim.models.keyedvectors.Vocab at 0x7fc75aef27d0>,\n",
              " '点': <gensim.models.keyedvectors.Vocab at 0x7fc75aef2810>,\n",
              " '旁边': <gensim.models.keyedvectors.Vocab at 0x7fc75aef2850>,\n",
              " '有个': <gensim.models.keyedvectors.Vocab at 0x7fc75aef2890>,\n",
              " '五星': <gensim.models.keyedvectors.Vocab at 0x7fc75aef28d0>,\n",
              " '豪华': <gensim.models.keyedvectors.Vocab at 0x7fc75aef2910>,\n",
              " '才': <gensim.models.keyedvectors.Vocab at 0x7fc75aef2950>,\n",
              " '398': <gensim.models.keyedvectors.Vocab at 0x7fc75aef2990>,\n",
              " '估计': <gensim.models.keyedvectors.Vocab at 0x7fc75aef29d0>,\n",
              " '小天鹅': <gensim.models.keyedvectors.Vocab at 0x7fc75aef2a10>,\n",
              " '只有': <gensim.models.keyedvectors.Vocab at 0x7fc75aef2a50>,\n",
              " '房型': <gensim.models.keyedvectors.Vocab at 0x7fc75aef2a90>,\n",
              " '以上': <gensim.models.keyedvectors.Vocab at 0x7fc75aef2ad0>,\n",
              " '看': <gensim.models.keyedvectors.Vocab at 0x7fc75aef2b10>,\n",
              " '得': <gensim.models.keyedvectors.Vocab at 0x7fc75aef2b50>,\n",
              " '以前': <gensim.models.keyedvectors.Vocab at 0x7fc75aef2b90>,\n",
              " '大家': <gensim.models.keyedvectors.Vocab at 0x7fc75aef2bd0>,\n",
              " '选': <gensim.models.keyedvectors.Vocab at 0x7fc75aef2c10>,\n",
              " '好像': <gensim.models.keyedvectors.Vocab at 0x7fc75aef2c50>,\n",
              " '跟洪': <gensim.models.keyedvectors.Vocab at 0x7fc75aef2c90>,\n",
              " '崖洞': <gensim.models.keyedvectors.Vocab at 0x7fc75aef2cd0>,\n",
              " '所以': <gensim.models.keyedvectors.Vocab at 0x7fc75aef2d10>,\n",
              " '风格': <gensim.models.keyedvectors.Vocab at 0x7fc75aef2d50>,\n",
              " '接近': <gensim.models.keyedvectors.Vocab at 0x7fc75aef2d90>,\n",
              " '一些': <gensim.models.keyedvectors.Vocab at 0x7fc75aef2dd0>,\n",
              " '来说': <gensim.models.keyedvectors.Vocab at 0x7fc75aef2e10>,\n",
              " '都': <gensim.models.keyedvectors.Vocab at 0x7fc75aef2e50>,\n",
              " '不敢恭维': <gensim.models.keyedvectors.Vocab at 0x7fc75aef2e90>,\n",
              " '大堂': <gensim.models.keyedvectors.Vocab at 0x7fc75aef2ed0>,\n",
              " '属于': <gensim.models.keyedvectors.Vocab at 0x7fc75aef2f10>,\n",
              " '三星级': <gensim.models.keyedvectors.Vocab at 0x7fc75aef2f50>,\n",
              " '楼层': <gensim.models.keyedvectors.Vocab at 0x7fc75aef2f90>,\n",
              " '唯一': <gensim.models.keyedvectors.Vocab at 0x7fc75aef2fd0>,\n",
              " '不足': <gensim.models.keyedvectors.Vocab at 0x7fc75aef5050>,\n",
              " '地漏': <gensim.models.keyedvectors.Vocab at 0x7fc75aef5090>,\n",
              " '设计': <gensim.models.keyedvectors.Vocab at 0x7fc75aef50d0>,\n",
              " '导致': <gensim.models.keyedvectors.Vocab at 0x7fc75aef5110>,\n",
              " '少量': <gensim.models.keyedvectors.Vocab at 0x7fc75aef5150>,\n",
              " '积水': <gensim.models.keyedvectors.Vocab at 0x7fc75aef5190>,\n",
              " '出行': <gensim.models.keyedvectors.Vocab at 0x7fc75aef51d0>,\n",
              " '购物': <gensim.models.keyedvectors.Vocab at 0x7fc75aef5210>,\n",
              " '订机票': <gensim.models.keyedvectors.Vocab at 0x7fc75aef5250>,\n",
              " '国航': <gensim.models.keyedvectors.Vocab at 0x7fc75aef5290>,\n",
              " '它': <gensim.models.keyedvectors.Vocab at 0x7fc75aef52d0>,\n",
              " '右边': <gensim.models.keyedvectors.Vocab at 0x7fc75aef5310>,\n",
              " '什么': <gensim.models.keyedvectors.Vocab at 0x7fc75aef5350>,\n",
              " '电脑': <gensim.models.keyedvectors.Vocab at 0x7fc75aef5390>,\n",
              " '地方': <gensim.models.keyedvectors.Vocab at 0x7fc75aef53d0>,\n",
              " '补充': <gensim.models.keyedvectors.Vocab at 0x7fc75aef5410>,\n",
              " '点评': <gensim.models.keyedvectors.Vocab at 0x7fc75aef5450>,\n",
              " '2007': <gensim.models.keyedvectors.Vocab at 0x7fc75aef5490>,\n",
              " '年': <gensim.models.keyedvectors.Vocab at 0x7fc75aef54d0>,\n",
              " '月': <gensim.models.keyedvectors.Vocab at 0x7fc75aef5510>,\n",
              " '日': <gensim.models.keyedvectors.Vocab at 0x7fc75aef5550>,\n",
              " '机场': <gensim.models.keyedvectors.Vocab at 0x7fc75aef5590>,\n",
              " '大巴': <gensim.models.keyedvectors.Vocab at 0x7fc75aef55d0>,\n",
              " '下面': <gensim.models.keyedvectors.Vocab at 0x7fc75aef5610>,\n",
              " '每': <gensim.models.keyedvectors.Vocab at 0x7fc75aef5650>,\n",
              " '半个': <gensim.models.keyedvectors.Vocab at 0x7fc75aef5690>,\n",
              " '一趟': <gensim.models.keyedvectors.Vocab at 0x7fc75aef56d0>,\n",
              " '偏高': <gensim.models.keyedvectors.Vocab at 0x7fc75aef5710>,\n",
              " '窗外': <gensim.models.keyedvectors.Vocab at 0x7fc75aef5750>,\n",
              " '风景': <gensim.models.keyedvectors.Vocab at 0x7fc75aef5790>,\n",
              " 'ok': <gensim.models.keyedvectors.Vocab at 0x7fc75aef57d0>,\n",
              " '正在': <gensim.models.keyedvectors.Vocab at 0x7fc75aef5810>,\n",
              " '申定': <gensim.models.keyedvectors.Vocab at 0x7fc75aef5850>,\n",
              " '不过': <gensim.models.keyedvectors.Vocab at 0x7fc75aef5890>,\n",
              " '目前': <gensim.models.keyedvectors.Vocab at 0x7fc75aef58d0>,\n",
              " '看来': <gensim.models.keyedvectors.Vocab at 0x7fc75aef5910>,\n",
              " '四星': <gensim.models.keyedvectors.Vocab at 0x7fc75aef5950>,\n",
              " '气派': <gensim.models.keyedvectors.Vocab at 0x7fc75aef5990>,\n",
              " '细节': <gensim.models.keyedvectors.Vocab at 0x7fc75aef59d0>,\n",
              " '粗糙': <gensim.models.keyedvectors.Vocab at 0x7fc75aef5a10>,\n",
              " '需要': <gensim.models.keyedvectors.Vocab at 0x7fc75aef5a50>,\n",
              " '加强': <gensim.models.keyedvectors.Vocab at 0x7fc75aef5a90>,\n",
              " '礼貌': <gensim.models.keyedvectors.Vocab at 0x7fc75aef5ad0>,\n",
              " '闹中取静': <gensim.models.keyedvectors.Vocab at 0x7fc75aef5b10>,\n",
              " '窗前': <gensim.models.keyedvectors.Vocab at 0x7fc75aef5b50>,\n",
              " '能': <gensim.models.keyedvectors.Vocab at 0x7fc75aef5b90>,\n",
              " '看到': <gensim.models.keyedvectors.Vocab at 0x7fc75aef5bd0>,\n",
              " '好象': <gensim.models.keyedvectors.Vocab at 0x7fc75aef5c10>,\n",
              " '连云港': <gensim.models.keyedvectors.Vocab at 0x7fc75aef5c50>,\n",
              " '这': <gensim.models.keyedvectors.Vocab at 0x7fc75aef5c90>,\n",
              " '偏贵': <gensim.models.keyedvectors.Vocab at 0x7fc75aef5cd0>,\n",
              " '早饭': <gensim.models.keyedvectors.Vocab at 0x7fc75aef5d10>,\n",
              " '还行': <gensim.models.keyedvectors.Vocab at 0x7fc75aef5d50>,\n",
              " '重要': <gensim.models.keyedvectors.Vocab at 0x7fc75aef5d90>,\n",
              " '窗户': <gensim.models.keyedvectors.Vocab at 0x7fc75aef5dd0>,\n",
              " '隔音': <gensim.models.keyedvectors.Vocab at 0x7fc75aef5e10>,\n",
              " '床小': <gensim.models.keyedvectors.Vocab at 0x7fc75aef5e50>,\n",
              " '明珠': <gensim.models.keyedvectors.Vocab at 0x7fc75aef5e90>,\n",
              " '万豪': <gensim.models.keyedvectors.Vocab at 0x7fc75aef5ed0>,\n",
              " '床': <gensim.models.keyedvectors.Vocab at 0x7fc75aef5f10>,\n",
              " '网线': <gensim.models.keyedvectors.Vocab at 0x7fc75aef5f50>,\n",
              " '接口': <gensim.models.keyedvectors.Vocab at 0x7fc75aef5f90>,\n",
              " '哪儿': <gensim.models.keyedvectors.Vocab at 0x7fc75aef5fd0>,\n",
              " '吗': <gensim.models.keyedvectors.Vocab at 0x7fc75aef9050>,\n",
              " '？': <gensim.models.keyedvectors.Vocab at 0x7fc75aef9090>,\n",
              " '高家庄': <gensim.models.keyedvectors.Vocab at 0x7fc75aef90d0>,\n",
              " '地道口': <gensim.models.keyedvectors.Vocab at 0x7fc75aef9110>,\n",
              " '隐蔽': <gensim.models.keyedvectors.Vocab at 0x7fc75aef9150>,\n",
              " '床头柜': <gensim.models.keyedvectors.Vocab at 0x7fc75aef9190>,\n",
              " '后面': <gensim.models.keyedvectors.Vocab at 0x7fc75aef91d0>,\n",
              " '想不道': <gensim.models.keyedvectors.Vocab at 0x7fc75aef9210>,\n",
              " '你': <gensim.models.keyedvectors.Vocab at 0x7fc75aef9250>,\n",
              " '怎么': <gensim.models.keyedvectors.Vocab at 0x7fc75aef9290>,\n",
              " '自带': <gensim.models.keyedvectors.Vocab at 0x7fc75aef92d0>,\n",
              " '4': <gensim.models.keyedvectors.Vocab at 0x7fc75aef9310>,\n",
              " '米': <gensim.models.keyedvectors.Vocab at 0x7fc75aef9350>,\n",
              " '板凳': <gensim.models.keyedvectors.Vocab at 0x7fc75aef9390>,\n",
              " '垃圾桶': <gensim.models.keyedvectors.Vocab at 0x7fc75aef93d0>,\n",
              " '可': <gensim.models.keyedvectors.Vocab at 0x7fc75aef9410>,\n",
              " '翻过来': <gensim.models.keyedvectors.Vocab at 0x7fc75aef9450>,\n",
              " '......': <gensim.models.keyedvectors.Vocab at 0x7fc75aef9490>,\n",
              " '沈阳市政府': <gensim.models.keyedvectors.Vocab at 0x7fc75aef94d0>,\n",
              " '大气': <gensim.models.keyedvectors.Vocab at 0x7fc75aef9510>,\n",
              " '便利': <gensim.models.keyedvectors.Vocab at 0x7fc75aef9550>,\n",
              " '出门': <gensim.models.keyedvectors.Vocab at 0x7fc75aef9590>,\n",
              " '往': <gensim.models.keyedvectors.Vocab at 0x7fc75aef95d0>,\n",
              " '左': <gensim.models.keyedvectors.Vocab at 0x7fc75aef9610>,\n",
              " '北陵': <gensim.models.keyedvectors.Vocab at 0x7fc75aef9650>,\n",
              " '公园': <gensim.models.keyedvectors.Vocab at 0x7fc75aef9690>,\n",
              " '政府': <gensim.models.keyedvectors.Vocab at 0x7fc75aef96d0>,\n",
              " '而且': <gensim.models.keyedvectors.Vocab at 0x7fc75aef9710>,\n",
              " '干净': <gensim.models.keyedvectors.Vocab at 0x7fc75aef9750>,\n",
              " '整个': <gensim.models.keyedvectors.Vocab at 0x7fc75aef9790>,\n",
              " '布局': <gensim.models.keyedvectors.Vocab at 0x7fc75aef97d0>,\n",
              " '整齐': <gensim.models.keyedvectors.Vocab at 0x7fc75aef9810>,\n",
              " '月份': <gensim.models.keyedvectors.Vocab at 0x7fc75aef9850>,\n",
              " '由于': <gensim.models.keyedvectors.Vocab at 0x7fc75aef9890>,\n",
              " '第一天': <gensim.models.keyedvectors.Vocab at 0x7fc75aef98d0>,\n",
              " '不能': <gensim.models.keyedvectors.Vocab at 0x7fc75aef9910>,\n",
              " '又': <gensim.models.keyedvectors.Vocab at 0x7fc75aef9950>,\n",
              " '换': <gensim.models.keyedvectors.Vocab at 0x7fc75aef9990>,\n",
              " '一间': <gensim.models.keyedvectors.Vocab at 0x7fc75aef99d0>,\n",
              " '帮忙': <gensim.models.keyedvectors.Vocab at 0x7fc75aef9a10>,\n",
              " '调试': <gensim.models.keyedvectors.Vocab at 0x7fc75aef9a50>,\n",
              " '笔记本': <gensim.models.keyedvectors.Vocab at 0x7fc75aef9a90>,\n",
              " '周到': <gensim.models.keyedvectors.Vocab at 0x7fc75aef9ad0>,\n",
              " '两天': <gensim.models.keyedvectors.Vocab at 0x7fc75aef9b10>,\n",
              " '结婚': <gensim.models.keyedvectors.Vocab at 0x7fc75aef9b50>,\n",
              " '宴会厅': <gensim.models.keyedvectors.Vocab at 0x7fc75aef9b90>,\n",
              " '适合': <gensim.models.keyedvectors.Vocab at 0x7fc75aef9bd0>,\n",
              " '婚礼': <gensim.models.keyedvectors.Vocab at 0x7fc75aef9c10>,\n",
              " '不够': <gensim.models.keyedvectors.Vocab at 0x7fc75aef9c50>,\n",
              " '敬业': <gensim.models.keyedvectors.Vocab at 0x7fc75aef9c90>,\n",
              " '登记': <gensim.models.keyedvectors.Vocab at 0x7fc75aef9cd0>,\n",
              " '后': <gensim.models.keyedvectors.Vocab at 0x7fc75aef9d10>,\n",
              " '没': <gensim.models.keyedvectors.Vocab at 0x7fc75aef9d50>,\n",
              " '是不是': <gensim.models.keyedvectors.Vocab at 0x7fc75aef9d90>,\n",
              " '本人': <gensim.models.keyedvectors.Vocab at 0x7fc75aef9dd0>,\n",
              " '把': <gensim.models.keyedvectors.Vocab at 0x7fc75aef9e10>,\n",
              " '护照': <gensim.models.keyedvectors.Vocab at 0x7fc75aef9e50>,\n",
              " '其它': <gensim.models.keyedvectors.Vocab at 0x7fc75aef9e90>,\n",
              " '幸亏': <gensim.models.keyedvectors.Vocab at 0x7fc75aef9ed0>,\n",
              " '要不然': <gensim.models.keyedvectors.Vocab at 0x7fc75aef9f10>,\n",
              " '不知': <gensim.models.keyedvectors.Vocab at 0x7fc75aef9f50>,\n",
              " '后果': <gensim.models.keyedvectors.Vocab at 0x7fc75aef9f90>,\n",
              " '怎样': <gensim.models.keyedvectors.Vocab at 0x7fc75aef9fd0>,\n",
              " '之后': <gensim.models.keyedvectors.Vocab at 0x7fc75aefc050>,\n",
              " '连': <gensim.models.keyedvectors.Vocab at 0x7fc75aefc090>,\n",
              " '声': <gensim.models.keyedvectors.Vocab at 0x7fc75aefc0d0>,\n",
              " '不好意思': <gensim.models.keyedvectors.Vocab at 0x7fc75aefc110>,\n",
              " '对不起': <gensim.models.keyedvectors.Vocab at 0x7fc75aefc150>,\n",
              " '改进': <gensim.models.keyedvectors.Vocab at 0x7fc75aefc190>,\n",
              " '6': <gensim.models.keyedvectors.Vocab at 0x7fc75aefc1d0>,\n",
              " '下旬': <gensim.models.keyedvectors.Vocab at 0x7fc75aefc210>,\n",
              " '丹东': <gensim.models.keyedvectors.Vocab at 0x7fc75aefc250>,\n",
              " '携程网': <gensim.models.keyedvectors.Vocab at 0x7fc75aefc290>,\n",
              " '预定': <gensim.models.keyedvectors.Vocab at 0x7fc75aefc2d0>,\n",
              " '国际': <gensim.models.keyedvectors.Vocab at 0x7fc75aefc310>,\n",
              " '天': <gensim.models.keyedvectors.Vocab at 0x7fc75aefc350>,\n",
              " '住宿': <gensim.models.keyedvectors.Vocab at 0x7fc75aefc390>,\n",
              " '傍晚': <gensim.models.keyedvectors.Vocab at 0x7fc75aefc3d0>,\n",
              " '抵': <gensim.models.keyedvectors.Vocab at 0x7fc75aefc410>,\n",
              " '便': <gensim.models.keyedvectors.Vocab at 0x7fc75aefc450>,\n",
              " '城市': <gensim.models.keyedvectors.Vocab at 0x7fc75aefc490>,\n",
              " '一说': <gensim.models.keyedvectors.Vocab at 0x7fc75aefc4d0>,\n",
              " '司机': <gensim.models.keyedvectors.Vocab at 0x7fc75aefc510>,\n",
              " '一条': <gensim.models.keyedvectors.Vocab at 0x7fc75aefc550>,\n",
              " '不起眼': <gensim.models.keyedvectors.Vocab at 0x7fc75aefc590>,\n",
              " '街上': <gensim.models.keyedvectors.Vocab at 0x7fc75aefc5d0>,\n",
              " '周围环境': <gensim.models.keyedvectors.Vocab at 0x7fc75aefc610>,\n",
              " '总台': <gensim.models.keyedvectors.Vocab at 0x7fc75aefc650>,\n",
              " '一问': <gensim.models.keyedvectors.Vocab at 0x7fc75aefc690>,\n",
              " '接待员': <gensim.models.keyedvectors.Vocab at 0x7fc75aefc6d0>,\n",
              " '收到': <gensim.models.keyedvectors.Vocab at 0x7fc75aefc710>,\n",
              " '携程': <gensim.models.keyedvectors.Vocab at 0x7fc75aefc750>,\n",
              " '单': <gensim.models.keyedvectors.Vocab at 0x7fc75aefc790>,\n",
              " '他们': <gensim.models.keyedvectors.Vocab at 0x7fc75aefc7d0>,\n",
              " '手机': <gensim.models.keyedvectors.Vocab at 0x7fc75aefc810>,\n",
              " '确认': <gensim.models.keyedvectors.Vocab at 0x7fc75aefc850>,\n",
              " '短信': <gensim.models.keyedvectors.Vocab at 0x7fc75aefc890>,\n",
              " '那': <gensim.models.keyedvectors.Vocab at 0x7fc75aefc8d0>,\n",
              " '按': <gensim.models.keyedvectors.Vocab at 0x7fc75aefc910>,\n",
              " '价住': <gensim.models.keyedvectors.Vocab at 0x7fc75aefc950>,\n",
              " '下': <gensim.models.keyedvectors.Vocab at 0x7fc75aefc990>,\n",
              " '个': <gensim.models.keyedvectors.Vocab at 0x7fc75aefc9d0>,\n",
              " '朝': <gensim.models.keyedvectors.Vocab at 0x7fc75aefca10>,\n",
              " '鸭绿江': <gensim.models.keyedvectors.Vocab at 0x7fc75aefca50>,\n",
              " '接待': <gensim.models.keyedvectors.Vocab at 0x7fc75aefca90>,\n",
              " '查': <gensim.models.keyedvectors.Vocab at 0x7fc75aefcad0>,\n",
              " '反正': <gensim.models.keyedvectors.Vocab at 0x7fc75aefcb10>,\n",
              " '人住': <gensim.models.keyedvectors.Vocab at 0x7fc75aefcb50>,\n",
              " '安排': <gensim.models.keyedvectors.Vocab at 0x7fc75aefcb90>,\n",
              " '15': <gensim.models.keyedvectors.Vocab at 0x7fc75aefcbd0>,\n",
              " '层': <gensim.models.keyedvectors.Vocab at 0x7fc75aefcc10>,\n",
              " '真': <gensim.models.keyedvectors.Vocab at 0x7fc75aefcc50>,\n",
              " '满足': <gensim.models.keyedvectors.Vocab at 0x7fc75aefcc90>,\n",
              " '看江': <gensim.models.keyedvectors.Vocab at 0x7fc75aefccd0>,\n",
              " '要求': <gensim.models.keyedvectors.Vocab at 0x7fc75aefcd10>,\n",
              " '进': <gensim.models.keyedvectors.Vocab at 0x7fc75aefcd50>,\n",
              " '一看': <gensim.models.keyedvectors.Vocab at 0x7fc75aefcd90>,\n",
              " '蜿蜒': <gensim.models.keyedvectors.Vocab at 0x7fc75aefcdd0>,\n",
              " '眼前': <gensim.models.keyedvectors.Vocab at 0x7fc75aefce10>,\n",
              " '朝鲜': <gensim.models.keyedvectors.Vocab at 0x7fc75aefce50>,\n",
              " '一侧': <gensim.models.keyedvectors.Vocab at 0x7fc75aefce90>,\n",
              " '房屋': <gensim.models.keyedvectors.Vocab at 0x7fc75aefced0>,\n",
              " '农田': <gensim.models.keyedvectors.Vocab at 0x7fc75aefcf10>,\n",
              " '清晰可见': <gensim.models.keyedvectors.Vocab at 0x7fc75aefcf50>,\n",
              " '稍': <gensim.models.keyedvectors.Vocab at 0x7fc75aefcf90>,\n",
              " '远处': <gensim.models.keyedvectors.Vocab at 0x7fc75aefcfd0>,\n",
              " '隐约可见': <gensim.models.keyedvectors.Vocab at 0x7fc75af00050>,\n",
              " '桥': <gensim.models.keyedvectors.Vocab at 0x7fc75af00090>,\n",
              " '略显': <gensim.models.keyedvectors.Vocab at 0x7fc75af000d0>,\n",
              " '旧': <gensim.models.keyedvectors.Vocab at 0x7fc75af00110>,\n",
              " '但床': <gensim.models.keyedvectors.Vocab at 0x7fc75af00150>,\n",
              " '被': <gensim.models.keyedvectors.Vocab at 0x7fc75af00190>,\n",
              " '江景': <gensim.models.keyedvectors.Vocab at 0x7fc75af001d0>,\n",
              " '性价比': <gensim.models.keyedvectors.Vocab at 0x7fc75af00210>,\n",
              " '超值': <gensim.models.keyedvectors.Vocab at 0x7fc75af00250>,\n",
              " '想当年': <gensim.models.keyedvectors.Vocab at 0x7fc75af00290>,\n",
              " '大概': <gensim.models.keyedvectors.Vocab at 0x7fc75af002d0>,\n",
              " '数一数二': <gensim.models.keyedvectors.Vocab at 0x7fc75af00310>,\n",
              " '现在': <gensim.models.keyedvectors.Vocab at 0x7fc75af00350>,\n",
              " '来看': <gensim.models.keyedvectors.Vocab at 0x7fc75af00390>,\n",
              " '比不上': <gensim.models.keyedvectors.Vocab at 0x7fc75af003d0>,\n",
              " '新开业': <gensim.models.keyedvectors.Vocab at 0x7fc75af00410>,\n",
              " '不太': <gensim.models.keyedvectors.Vocab at 0x7fc75af00450>,\n",
              " '光亮': <gensim.models.keyedvectors.Vocab at 0x7fc75af00490>,\n",
              " '电梯': <gensim.models.keyedvectors.Vocab at 0x7fc75af004d0>,\n",
              " '口': <gensim.models.keyedvectors.Vocab at 0x7fc75af00510>,\n",
              " '只': <gensim.models.keyedvectors.Vocab at 0x7fc75af00550>,\n",
              " '开': <gensim.models.keyedvectors.Vocab at 0x7fc75af00590>,\n",
              " '一小部分': <gensim.models.keyedvectors.Vocab at 0x7fc75af005d0>,\n",
              " '灯光': <gensim.models.keyedvectors.Vocab at 0x7fc75af00610>,\n",
              " '遇到': <gensim.models.keyedvectors.Vocab at 0x7fc75af00650>,\n",
              " '问好': <gensim.models.keyedvectors.Vocab at 0x7fc75af00690>,\n",
              " '特别': <gensim.models.keyedvectors.Vocab at 0x7fc75af006d0>,\n",
              " '值得一提的是': <gensim.models.keyedvectors.Vocab at 0x7fc75af00710>,\n",
              " '23': <gensim.models.keyedvectors.Vocab at 0x7fc75af00750>,\n",
              " '楼': <gensim.models.keyedvectors.Vocab at 0x7fc75af00790>,\n",
              " '旋转': <gensim.models.keyedvectors.Vocab at 0x7fc75af007d0>,\n",
              " '餐厅': <gensim.models.keyedvectors.Vocab at 0x7fc75af00810>,\n",
              " '深圳': <gensim.models.keyedvectors.Vocab at 0x7fc75af00850>,\n",
              " '国贸': <gensim.models.keyedvectors.Vocab at 0x7fc75af00890>,\n",
              " '上海': <gensim.models.keyedvectors.Vocab at 0x7fc75af008d0>,\n",
              " '新锦江': <gensim.models.keyedvectors.Vocab at 0x7fc75af00910>,\n",
              " '顶楼': <gensim.models.keyedvectors.Vocab at 0x7fc75af00950>,\n",
              " '相比': <gensim.models.keyedvectors.Vocab at 0x7fc75af00990>,\n",
              " '拼': <gensim.models.keyedvectors.Vocab at 0x7fc75af009d0>,\n",
              " '毕竟': <gensim.models.keyedvectors.Vocab at 0x7fc75af00a10>,\n",
              " '那么': <gensim.models.keyedvectors.Vocab at 0x7fc75af00a50>,\n",
              " '边境': <gensim.models.keyedvectors.Vocab at 0x7fc75af00a90>,\n",
              " '城里': <gensim.models.keyedvectors.Vocab at 0x7fc75af00ad0>,\n",
              " '20': <gensim.models.keyedvectors.Vocab at 0x7fc75af00b10>,\n",
              " '自助': <gensim.models.keyedvectors.Vocab at 0x7fc75af00b50>,\n",
              " '丰盛': <gensim.models.keyedvectors.Vocab at 0x7fc75af00b90>,\n",
              " '再': <gensim.models.keyedvectors.Vocab at 0x7fc75af00bd0>,\n",
              " '面对': <gensim.models.keyedvectors.Vocab at 0x7fc75af00c10>,\n",
              " '饱览': <gensim.models.keyedvectors.Vocab at 0x7fc75af00c50>,\n",
              " '异国风光': <gensim.models.keyedvectors.Vocab at 0x7fc75af00c90>,\n",
              " '尽管': <gensim.models.keyedvectors.Vocab at 0x7fc75af00cd0>,\n",
              " '沙洲': <gensim.models.keyedvectors.Vocab at 0x7fc75af00d10>,\n",
              " '景色': <gensim.models.keyedvectors.Vocab at 0x7fc75af00d50>,\n",
              " '停留': <gensim.models.keyedvectors.Vocab at 0x7fc75af00d90>,\n",
              " '留下来': <gensim.models.keyedvectors.Vocab at 0x7fc75af00dd0>,\n",
              " '北师大': <gensim.models.keyedvectors.Vocab at 0x7fc75af00e10>,\n",
              " '办事': <gensim.models.keyedvectors.Vocab at 0x7fc75af00e50>,\n",
              " '特意': <gensim.models.keyedvectors.Vocab at 0x7fc75af00e90>,\n",
              " '留意': <gensim.models.keyedvectors.Vocab at 0x7fc75af00ed0>,\n",
              " '首先': <gensim.models.keyedvectors.Vocab at 0x7fc75af00f10>,\n",
              " '该': <gensim.models.keyedvectors.Vocab at 0x7fc75af00f50>,\n",
              " '好找': <gensim.models.keyedvectors.Vocab at 0x7fc75af00f90>,\n",
              " '西四': <gensim.models.keyedvectors.Vocab at 0x7fc75af00fd0>,\n",
              " '大街': <gensim.models.keyedvectors.Vocab at 0x7fc75af03050>,\n",
              " '很近': <gensim.models.keyedvectors.Vocab at 0x7fc75af03090>,\n",
              " '公交车': <gensim.models.keyedvectors.Vocab at 0x7fc75af030d0>,\n",
              " '护国寺': <gensim.models.keyedvectors.Vocab at 0x7fc75af03110>,\n",
              " '站': <gensim.models.keyedvectors.Vocab at 0x7fc75af03150>,\n",
              " '两分钟': <gensim.models.keyedvectors.Vocab at 0x7fc75af03190>,\n",
              " '因离': <gensim.models.keyedvectors.Vocab at 0x7fc75af031d0>,\n",
              " '公交站': <gensim.models.keyedvectors.Vocab at 0x7fc75af03210>,\n",
              " '近': <gensim.models.keyedvectors.Vocab at 0x7fc75af03250>,\n",
              " '哪': <gensim.models.keyedvectors.Vocab at 0x7fc75af03290>,\n",
              " '省钱': <gensim.models.keyedvectors.Vocab at 0x7fc75af032d0>,\n",
              " '省事': <gensim.models.keyedvectors.Vocab at 0x7fc75af03310>,\n",
              " '小吃店': <gensim.models.keyedvectors.Vocab at 0x7fc75af03350>,\n",
              " '价位': <gensim.models.keyedvectors.Vocab at 0x7fc75af03390>,\n",
              " '小吃街': <gensim.models.keyedvectors.Vocab at 0x7fc75af033d0>,\n",
              " '便宜': <gensim.models.keyedvectors.Vocab at 0x7fc75af03410>,\n",
              " '报刊': <gensim.models.keyedvectors.Vocab at 0x7fc75af03450>,\n",
              " '厅': <gensim.models.keyedvectors.Vocab at 0x7fc75af03490>,\n",
              " '毛': <gensim.models.keyedvectors.Vocab at 0x7fc75af034d0>,\n",
              " '一分钟': <gensim.models.keyedvectors.Vocab at 0x7fc75af03510>,\n",
              " '公用': <gensim.models.keyedvectors.Vocab at 0x7fc75af03550>,\n",
              " '长途电话': <gensim.models.keyedvectors.Vocab at 0x7fc75af03590>,\n",
              " '水果摊': <gensim.models.keyedvectors.Vocab at 0x7fc75af035d0>,\n",
              " '便利店': <gensim.models.keyedvectors.Vocab at 0x7fc75af03610>,\n",
              " '网吧': <gensim.models.keyedvectors.Vocab at 0x7fc75af03650>,\n",
              " '应有尽有': <gensim.models.keyedvectors.Vocab at 0x7fc75af03690>,\n",
              " '这方面': <gensim.models.keyedvectors.Vocab at 0x7fc75af036d0>,\n",
              " '几个': <gensim.models.keyedvectors.Vocab at 0x7fc75af03710>,\n",
              " '这家': <gensim.models.keyedvectors.Vocab at 0x7fc75af03750>,\n",
              " '二星级': <gensim.models.keyedvectors.Vocab at 0x7fc75af03790>,\n",
              " '开得': <gensim.models.keyedvectors.Vocab at 0x7fc75af037d0>,\n",
              " '足够': <gensim.models.keyedvectors.Vocab at 0x7fc75af03810>,\n",
              " '冲澡': <gensim.models.keyedvectors.Vocab at 0x7fc75af03850>,\n",
              " '水温': <gensim.models.keyedvectors.Vocab at 0x7fc75af03890>,\n",
              " '太低': <gensim.models.keyedvectors.Vocab at 0x7fc75af038d0>,\n",
              " '忽冷忽热': <gensim.models.keyedvectors.Vocab at 0x7fc75af03910>,\n",
              " '原因': <gensim.models.keyedvectors.Vocab at 0x7fc75af03950>,\n",
              " '插座': <gensim.models.keyedvectors.Vocab at 0x7fc75af03990>,\n",
              " '充电': <gensim.models.keyedvectors.Vocab at 0x7fc75af039d0>,\n",
              " '窗头': <gensim.models.keyedvectors.Vocab at 0x7fc75af03a10>,\n",
              " '只能': <gensim.models.keyedvectors.Vocab at 0x7fc75af03a50>,\n",
              " '电视机': <gensim.models.keyedvectors.Vocab at 0x7fc75af03a90>,\n",
              " '柜后': <gensim.models.keyedvectors.Vocab at 0x7fc75af03ad0>,\n",
              " '另': <gensim.models.keyedvectors.Vocab at 0x7fc75af03b10>,\n",
              " '对面': <gensim.models.keyedvectors.Vocab at 0x7fc75af03b50>,\n",
              " '烟酒': <gensim.models.keyedvectors.Vocab at 0x7fc75af03b90>,\n",
              " '店里': <gensim.models.keyedvectors.Vocab at 0x7fc75af03bd0>,\n",
              " '烟': <gensim.models.keyedvectors.Vocab at 0x7fc75af03c10>,\n",
              " '买': <gensim.models.keyedvectors.Vocab at 0x7fc75af03c50>,\n",
              " '假': <gensim.models.keyedvectors.Vocab at 0x7fc75af03c90>,\n",
              " '设备': <gensim.models.keyedvectors.Vocab at 0x7fc75af03cd0>,\n",
              " '太破': <gensim.models.keyedvectors.Vocab at 0x7fc75af03d10>,\n",
              " '喷头': <gensim.models.keyedvectors.Vocab at 0x7fc75af03d50>,\n",
              " '空调': <gensim.models.keyedvectors.Vocab at 0x7fc75af03d90>,\n",
              " '几乎': <gensim.models.keyedvectors.Vocab at 0x7fc75af03dd0>,\n",
              " '虽然': <gensim.models.keyedvectors.Vocab at 0x7fc75af03e10>,\n",
              " '我开': <gensim.models.keyedvectors.Vocab at 0x7fc75af03e50>,\n",
              " '最大': <gensim.models.keyedvectors.Vocab at 0x7fc75af03e90>,\n",
              " '另外': <gensim.models.keyedvectors.Vocab at 0x7fc75af03ed0>,\n",
              " '维修': <gensim.models.keyedvectors.Vocab at 0x7fc75af03f10>,\n",
              " '及时': <gensim.models.keyedvectors.Vocab at 0x7fc75af03f50>,\n",
              " '洗澡': <gensim.models.keyedvectors.Vocab at 0x7fc75af03f90>,\n",
              " '用品': <gensim.models.keyedvectors.Vocab at 0x7fc75af03fd0>,\n",
              " '廉价': <gensim.models.keyedvectors.Vocab at 0x7fc75af07050>,\n",
              " '货': <gensim.models.keyedvectors.Vocab at 0x7fc75af07090>,\n",
              " '奇怪': <gensim.models.keyedvectors.Vocab at 0x7fc75af070d0>,\n",
              " '洗头': <gensim.models.keyedvectors.Vocab at 0x7fc75af07110>,\n",
              " '液': <gensim.models.keyedvectors.Vocab at 0x7fc75af07150>,\n",
              " '...': <gensim.models.keyedvectors.Vocab at 0x7fc75af07190>,\n",
              " '招待所': <gensim.models.keyedvectors.Vocab at 0x7fc75af071d0>,\n",
              " '水平': <gensim.models.keyedvectors.Vocab at 0x7fc75af07210>,\n",
              " '美中不足': <gensim.models.keyedvectors.Vocab at 0x7fc75af07250>,\n",
              " '之间': <gensim.models.keyedvectors.Vocab at 0x7fc75af07290>,\n",
              " '效果': <gensim.models.keyedvectors.Vocab at 0x7fc75af072d0>,\n",
              " '不太好': <gensim.models.keyedvectors.Vocab at 0x7fc75af07310>,\n",
              " '房价': <gensim.models.keyedvectors.Vocab at 0x7fc75af07350>,\n",
              " '虽': <gensim.models.keyedvectors.Vocab at 0x7fc75af07390>,\n",
              " '陈旧': <gensim.models.keyedvectors.Vocab at 0x7fc75af073d0>,\n",
              " '良好': <gensim.models.keyedvectors.Vocab at 0x7fc75af07410>,\n",
              " '温暖': <gensim.models.keyedvectors.Vocab at 0x7fc75af07450>,\n",
              " '所': <gensim.models.keyedvectors.Vocab at 0x7fc75af07490>,\n",
              " '处': <gensim.models.keyedvectors.Vocab at 0x7fc75af074d0>,\n",
              " '地理位置': <gensim.models.keyedvectors.Vocab at 0x7fc75af07510>,\n",
              " '极好': <gensim.models.keyedvectors.Vocab at 0x7fc75af07550>,\n",
              " '年龄': <gensim.models.keyedvectors.Vocab at 0x7fc75af07590>,\n",
              " '较大': <gensim.models.keyedvectors.Vocab at 0x7fc75af075d0>,\n",
              " '个人': <gensim.models.keyedvectors.Vocab at 0x7fc75af07610>,\n",
              " '旅游者': <gensim.models.keyedvectors.Vocab at 0x7fc75af07650>,\n",
              " '而言': <gensim.models.keyedvectors.Vocab at 0x7fc75af07690>,\n",
              " '不失为': <gensim.models.keyedvectors.Vocab at 0x7fc75af076d0>,\n",
              " '较佳': <gensim.models.keyedvectors.Vocab at 0x7fc75af07710>,\n",
              " '选择': <gensim.models.keyedvectors.Vocab at 0x7fc75af07750>,\n",
              " '太小': <gensim.models.keyedvectors.Vocab at 0x7fc75af07790>,\n",
              " '转身': <gensim.models.keyedvectors.Vocab at 0x7fc75af077d0>,\n",
              " '费劲': <gensim.models.keyedvectors.Vocab at 0x7fc75af07810>,\n",
              " '一半': <gensim.models.keyedvectors.Vocab at 0x7fc75af07850>,\n",
              " '因在': <gensim.models.keyedvectors.Vocab at 0x7fc75af07890>,\n",
              " '里': <gensim.models.keyedvectors.Vocab at 0x7fc75af078d0>,\n",
              " '容易': <gensim.models.keyedvectors.Vocab at 0x7fc75af07910>,\n",
              " '找到': <gensim.models.keyedvectors.Vocab at 0x7fc75af07950>,\n",
              " '满意': <gensim.models.keyedvectors.Vocab at 0x7fc75af07990>,\n",
              " '一点': <gensim.models.keyedvectors.Vocab at 0x7fc75af079d0>,\n",
              " '需': <gensim.models.keyedvectors.Vocab at 0x7fc75af07a10>,\n",
              " '走时': <gensim.models.keyedvectors.Vocab at 0x7fc75af07a50>,\n",
              " '楼前': <gensim.models.keyedvectors.Vocab at 0x7fc75af07a90>,\n",
              " '台': <gensim.models.keyedvectors.Vocab at 0x7fc75af07ad0>,\n",
              " '结帐': <gensim.models.keyedvectors.Vocab at 0x7fc75af07b10>,\n",
              " '由': <gensim.models.keyedvectors.Vocab at 0x7fc75af07b50>,\n",
              " '检查': <gensim.models.keyedvectors.Vocab at 0x7fc75af07b90>,\n",
              " '发现': <gensim.models.keyedvectors.Vocab at 0x7fc75af07bd0>,\n",
              " '零星': <gensim.models.keyedvectors.Vocab at 0x7fc75af07c10>,\n",
              " '物品': <gensim.models.keyedvectors.Vocab at 0x7fc75af07c50>,\n",
              " '遗失在': <gensim.models.keyedvectors.Vocab at 0x7fc75af07c90>,\n",
              " '当时': <gensim.models.keyedvectors.Vocab at 0x7fc75af07cd0>,\n",
              " '请': <gensim.models.keyedvectors.Vocab at 0x7fc75af07d10>,\n",
              " '送': <gensim.models.keyedvectors.Vocab at 0x7fc75af07d50>,\n",
              " '下来': <gensim.models.keyedvectors.Vocab at 0x7fc75af07d90>,\n",
              " '结果': <gensim.models.keyedvectors.Vocab at 0x7fc75af07dd0>,\n",
              " '答复': <gensim.models.keyedvectors.Vocab at 0x7fc75af07e10>,\n",
              " '服务部': <gensim.models.keyedvectors.Vocab at 0x7fc75af07e50>,\n",
              " '去取': <gensim.models.keyedvectors.Vocab at 0x7fc75af07e90>,\n",
              " '说服': <gensim.models.keyedvectors.Vocab at 0x7fc75af07ed0>,\n",
              " '员员': <gensim.models.keyedvectors.Vocab at 0x7fc75af07f10>,\n",
              " '时间': <gensim.models.keyedvectors.Vocab at 0x7fc75af07f50>,\n",
              " '当然': <gensim.models.keyedvectors.Vocab at 0x7fc75af07f90>,\n",
              " '东西': <gensim.models.keyedvectors.Vocab at 0x7fc75af07fd0>,\n",
              " '哪怕': <gensim.models.keyedvectors.Vocab at 0x7fc75af0a050>,\n",
              " '取到': <gensim.models.keyedvectors.Vocab at 0x7fc75af0a090>,\n",
              " '我会': <gensim.models.keyedvectors.Vocab at 0x7fc75af0a0d0>,\n",
              " '更好': <gensim.models.keyedvectors.Vocab at 0x7fc75af0a110>,\n",
              " '室内': <gensim.models.keyedvectors.Vocab at 0x7fc75af0a150>,\n",
              " '色调': <gensim.models.keyedvectors.Vocab at 0x7fc75af0a190>,\n",
              " 'MM': <gensim.models.keyedvectors.Vocab at 0x7fc75af0a1d0>,\n",
              " '收拾': <gensim.models.keyedvectors.Vocab at 0x7fc75af0a210>,\n",
              " '马虎': <gensim.models.keyedvectors.Vocab at 0x7fc75af0a250>,\n",
              " '拉开': <gensim.models.keyedvectors.Vocab at 0x7fc75af0a290>,\n",
              " '窗帘': <gensim.models.keyedvectors.Vocab at 0x7fc75af0a2d0>,\n",
              " '觉得': <gensim.models.keyedvectors.Vocab at 0x7fc75af0a310>,\n",
              " '凌乱': <gensim.models.keyedvectors.Vocab at 0x7fc75af0a350>,\n",
              " '淋浴': <gensim.models.keyedvectors.Vocab at 0x7fc75af0a390>,\n",
              " '洗澡时': <gensim.models.keyedvectors.Vocab at 0x7fc75af0a3d0>,\n",
              " '水时': <gensim.models.keyedvectors.Vocab at 0x7fc75af0a410>,\n",
              " '大时': <gensim.models.keyedvectors.Vocab at 0x7fc75af0a450>,\n",
              " '中间': <gensim.models.keyedvectors.Vocab at 0x7fc75af0a490>,\n",
              " '停': <gensim.models.keyedvectors.Vocab at 0x7fc75af0a4d0>,\n",
              " '几秒': <gensim.models.keyedvectors.Vocab at 0x7fc75af0a510>,\n",
              " '年前': <gensim.models.keyedvectors.Vocab at 0x7fc75af0a550>,\n",
              " '酒店设施': <gensim.models.keyedvectors.Vocab at 0x7fc75af0a590>,\n",
              " '还算值': <gensim.models.keyedvectors.Vocab at 0x7fc75af0a5d0>,\n",
              " '尤其': <gensim.models.keyedvectors.Vocab at 0x7fc75af0a610>,\n",
              " '黄金周': <gensim.models.keyedvectors.Vocab at 0x7fc75af0a650>,\n",
              " '期间': <gensim.models.keyedvectors.Vocab at 0x7fc75af0a690>,\n",
              " '临海': <gensim.models.keyedvectors.Vocab at 0x7fc75af0a6d0>,\n",
              " '高层': <gensim.models.keyedvectors.Vocab at 0x7fc75af0a710>,\n",
              " '大部分': <gensim.models.keyedvectors.Vocab at 0x7fc75af0a750>,\n",
              " '海': <gensim.models.keyedvectors.Vocab at 0x7fc75af0a790>,\n",
              " '小姐': <gensim.models.keyedvectors.Vocab at 0x7fc75af0a7d0>,\n",
              " '态度': <gensim.models.keyedvectors.Vocab at 0x7fc75af0a810>,\n",
              " '生硬': <gensim.models.keyedvectors.Vocab at 0x7fc75af0a850>,\n",
              " '姓名': <gensim.models.keyedvectors.Vocab at 0x7fc75af0a890>,\n",
              " '字': <gensim.models.keyedvectors.Vocab at 0x7fc75af0a8d0>,\n",
              " '算啦': <gensim.models.keyedvectors.Vocab at 0x7fc75af0a910>,\n",
              " '影响': <gensim.models.keyedvectors.Vocab at 0x7fc75af0a950>,\n",
              " '计较': <gensim.models.keyedvectors.Vocab at 0x7fc75af0a990>,\n",
              " '西餐厅': <gensim.models.keyedvectors.Vocab at 0x7fc75af0a9d0>,\n",
              " '晚餐': <gensim.models.keyedvectors.Vocab at 0x7fc75af0aa10>,\n",
              " '捧': <gensim.models.keyedvectors.Vocab at 0x7fc75af0aa50>,\n",
              " '着': <gensim.models.keyedvectors.Vocab at 0x7fc75af0aa90>,\n",
              " '肚子': <gensim.models.keyedvectors.Vocab at 0x7fc75af0aad0>,\n",
              " '棒': <gensim.models.keyedvectors.Vocab at 0x7fc75af0ab10>,\n",
              " '差远': <gensim.models.keyedvectors.Vocab at 0x7fc75af0ab50>,\n",
              " '啦': <gensim.models.keyedvectors.Vocab at 0x7fc75af0ab90>,\n",
              " '还敢': <gensim.models.keyedvectors.Vocab at 0x7fc75af0abd0>,\n",
              " '号称': <gensim.models.keyedvectors.Vocab at 0x7fc75af0ac10>,\n",
              " '汗': <gensim.models.keyedvectors.Vocab at 0x7fc75af0ac50>,\n",
              " '反馈': <gensim.models.keyedvectors.Vocab at 0x7fc75af0ac90>,\n",
              " '2008': <gensim.models.keyedvectors.Vocab at 0x7fc75af0acd0>,\n",
              " '14': <gensim.models.keyedvectors.Vocab at 0x7fc75af0ad10>,\n",
              " '尊敬': <gensim.models.keyedvectors.Vocab at 0x7fc75af0ad50>,\n",
              " '宾客': <gensim.models.keyedvectors.Vocab at 0x7fc75af0ad90>,\n",
              " '您好': <gensim.models.keyedvectors.Vocab at 0x7fc75af0add0>,\n",
              " '感谢您': <gensim.models.keyedvectors.Vocab at 0x7fc75af0ae10>,\n",
              " '金陵': <gensim.models.keyedvectors.Vocab at 0x7fc75af0ae50>,\n",
              " '溧阳': <gensim.models.keyedvectors.Vocab at 0x7fc75af0ae90>,\n",
              " '并': <gensim.models.keyedvectors.Vocab at 0x7fc75af0aed0>,\n",
              " '我们': <gensim.models.keyedvectors.Vocab at 0x7fc75af0af10>,\n",
              " '留下': <gensim.models.keyedvectors.Vocab at 0x7fc75af0af50>,\n",
              " '宝贵': <gensim.models.keyedvectors.Vocab at 0x7fc75af0af90>,\n",
              " '意见': <gensim.models.keyedvectors.Vocab at 0x7fc75af0afd0>,\n",
              " '对于': <gensim.models.keyedvectors.Vocab at 0x7fc75af0e050>,\n",
              " '将': <gensim.models.keyedvectors.Vocab at 0x7fc75af0e090>,\n",
              " '做': <gensim.models.keyedvectors.Vocab at 0x7fc75af0e0d0>,\n",
              " '调整': <gensim.models.keyedvectors.Vocab at 0x7fc75af0e110>,\n",
              " '一定': <gensim.models.keyedvectors.Vocab at 0x7fc75af0e150>,\n",
              " '继续': <gensim.models.keyedvectors.Vocab at 0x7fc75af0e190>,\n",
              " '努力': <gensim.models.keyedvectors.Vocab at 0x7fc75af0e1d0>,\n",
              " '进取': <gensim.models.keyedvectors.Vocab at 0x7fc75af0e210>,\n",
              " '发扬': <gensim.models.keyedvectors.Vocab at 0x7fc75af0e250>,\n",
              " '以客': <gensim.models.keyedvectors.Vocab at 0x7fc75af0e290>,\n",
              " '为': <gensim.models.keyedvectors.Vocab at 0x7fc75af0e2d0>,\n",
              " '尊': <gensim.models.keyedvectors.Vocab at 0x7fc75af0e310>,\n",
              " '理念': <gensim.models.keyedvectors.Vocab at 0x7fc75af0e350>,\n",
              " '一位': <gensim.models.keyedvectors.Vocab at 0x7fc75af0e390>,\n",
              " '美好': <gensim.models.keyedvectors.Vocab at 0x7fc75af0e3d0>,\n",
              " '而': <gensim.models.keyedvectors.Vocab at 0x7fc75af0e410>,\n",
              " '深刻': <gensim.models.keyedvectors.Vocab at 0x7fc75af0e450>,\n",
              " '再次': <gensim.models.keyedvectors.Vocab at 0x7fc75af0e490>,\n",
              " '向': <gensim.models.keyedvectors.Vocab at 0x7fc75af0e4d0>,\n",
              " '您': <gensim.models.keyedvectors.Vocab at 0x7fc75af0e510>,\n",
              " '表示感谢': <gensim.models.keyedvectors.Vocab at 0x7fc75af0e550>,\n",
              " '期待': <gensim.models.keyedvectors.Vocab at 0x7fc75af0e590>,\n",
              " '光临': <gensim.models.keyedvectors.Vocab at 0x7fc75af0e5d0>,\n",
              " '祝您': <gensim.models.keyedvectors.Vocab at 0x7fc75af0e610>,\n",
              " '顺利': <gensim.models.keyedvectors.Vocab at 0x7fc75af0e650>,\n",
              " '身体健康': <gensim.models.keyedvectors.Vocab at 0x7fc75af0e690>,\n",
              " '客务': <gensim.models.keyedvectors.Vocab at 0x7fc75af0e6d0>,\n",
              " '关系': <gensim.models.keyedvectors.Vocab at 0x7fc75af0e710>,\n",
              " '主任': <gensim.models.keyedvectors.Vocab at 0x7fc75af0e750>,\n",
              " '市中心': <gensim.models.keyedvectors.Vocab at 0x7fc75af0e790>,\n",
              " '号楼': <gensim.models.keyedvectors.Vocab at 0x7fc75af0e7d0>,\n",
              " '相当于': <gensim.models.keyedvectors.Vocab at 0x7fc75af0e810>,\n",
              " '标准': <gensim.models.keyedvectors.Vocab at 0x7fc75af0e850>,\n",
              " '相对': <gensim.models.keyedvectors.Vocab at 0x7fc75af0e890>,\n",
              " '于': <gensim.models.keyedvectors.Vocab at 0x7fc75af0e8d0>,\n",
              " '值': <gensim.models.keyedvectors.Vocab at 0x7fc75af0e910>,\n",
              " '11': <gensim.models.keyedvectors.Vocab at 0x7fc75af0e950>,\n",
              " '拖鞋': <gensim.models.keyedvectors.Vocab at 0x7fc75af0e990>,\n",
              " '根本': <gensim.models.keyedvectors.Vocab at 0x7fc75af0e9d0>,\n",
              " '穿不下': <gensim.models.keyedvectors.Vocab at 0x7fc75af0ea10>,\n",
              " '难道': <gensim.models.keyedvectors.Vocab at 0x7fc75af0ea50>,\n",
              " '女士': <gensim.models.keyedvectors.Vocab at 0x7fc75af0ea90>,\n",
              " '42': <gensim.models.keyedvectors.Vocab at 0x7fc75af0ead0>,\n",
              " '码': <gensim.models.keyedvectors.Vocab at 0x7fc75af0eb10>,\n",
              " '脚': <gensim.models.keyedvectors.Vocab at 0x7fc75af0eb50>,\n",
              " '啊': <gensim.models.keyedvectors.Vocab at 0x7fc75af0eb90>,\n",
              " '感受': <gensim.models.keyedvectors.Vocab at 0x7fc75af0ebd0>,\n",
              " '告知': <gensim.models.keyedvectors.Vocab at 0x7fc75af0ec10>,\n",
              " '提出': <gensim.models.keyedvectors.Vocab at 0x7fc75af0ec50>,\n",
              " '下次': <gensim.models.keyedvectors.Vocab at 0x7fc75af0ec90>,\n",
              " '需向': <gensim.models.keyedvectors.Vocab at 0x7fc75af0ecd0>,\n",
              " '根据': <gensim.models.keyedvectors.Vocab at 0x7fc75af0ed10>,\n",
              " '记录': <gensim.models.keyedvectors.Vocab at 0x7fc75af0ed50>,\n",
              " '需求': <gensim.models.keyedvectors.Vocab at 0x7fc75af0ed90>,\n",
              " '清洁': <gensim.models.keyedvectors.Vocab at 0x7fc75af0edd0>,\n",
              " '不足之处': <gensim.models.keyedvectors.Vocab at 0x7fc75af0ee10>,\n",
              " '双人房': <gensim.models.keyedvectors.Vocab at 0x7fc75af0ee50>,\n",
              " '一套': <gensim.models.keyedvectors.Vocab at 0x7fc75af0ee90>,\n",
              " '洗漱': <gensim.models.keyedvectors.Vocab at 0x7fc75af0eed0>,\n",
              " '已经': <gensim.models.keyedvectors.Vocab at 0x7fc75af0ef10>,\n",
              " '召集': <gensim.models.keyedvectors.Vocab at 0x7fc75af0ef50>,\n",
              " '相关': <gensim.models.keyedvectors.Vocab at 0x7fc75af0ef90>,\n",
              " '部门': <gensim.models.keyedvectors.Vocab at 0x7fc75af0efd0>,\n",
              " '对此': <gensim.models.keyedvectors.Vocab at 0x7fc75af11050>,\n",
              " '进行': <gensim.models.keyedvectors.Vocab at 0x7fc75af11090>,\n",
              " '研究': <gensim.models.keyedvectors.Vocab at 0x7fc75af110d0>,\n",
              " '整改': <gensim.models.keyedvectors.Vocab at 0x7fc75af11110>,\n",
              " '做到': <gensim.models.keyedvectors.Vocab at 0x7fc75af11150>,\n",
              " '位': <gensim.models.keyedvectors.Vocab at 0x7fc75af11190>,\n",
              " '进一步': <gensim.models.keyedvectors.Vocab at 0x7fc75af111d0>,\n",
              " '关注': <gensim.models.keyedvectors.Vocab at 0x7fc75af11210>,\n",
              " '表示': <gensim.models.keyedvectors.Vocab at 0x7fc75af11250>,\n",
              " '衷心': <gensim.models.keyedvectors.Vocab at 0x7fc75af11290>,\n",
              " '并入': <gensim.models.keyedvectors.Vocab at 0x7fc75af112d0>,\n",
              " '更加': <gensim.models.keyedvectors.Vocab at 0x7fc75af11310>,\n",
              " '优质服务': <gensim.models.keyedvectors.Vocab at 0x7fc75af11350>,\n",
              " '机会': <gensim.models.keyedvectors.Vocab at 0x7fc75af11390>,\n",
              " '顺祝': <gensim.models.keyedvectors.Vocab at 0x7fc75af113d0>,\n",
              " '人间': <gensim.models.keyedvectors.Vocab at 0x7fc75af11410>,\n",
              " '暖和': <gensim.models.keyedvectors.Vocab at 0x7fc75af11450>,\n",
              " '时冷时热': <gensim.models.keyedvectors.Vocab at 0x7fc75af11490>,\n",
              " '被单': <gensim.models.keyedvectors.Vocab at 0x7fc75af114d0>,\n",
              " '油污': <gensim.models.keyedvectors.Vocab at 0x7fc75af11510>,\n",
              " '接受': <gensim.models.keyedvectors.Vocab at 0x7fc75af11550>,\n",
              " '洗漱间': <gensim.models.keyedvectors.Vocab at 0x7fc75af11590>,\n",
              " '厕所': <gensim.models.keyedvectors.Vocab at 0x7fc75af115d0>,\n",
              " '刚': <gensim.models.keyedvectors.Vocab at 0x7fc75af11610>,\n",
              " '开始': <gensim.models.keyedvectors.Vocab at 0x7fc75af11650>,\n",
              " '冷': <gensim.models.keyedvectors.Vocab at 0x7fc75af11690>,\n",
              " '热水': <gensim.models.keyedvectors.Vocab at 0x7fc75af116d0>,\n",
              " '桶': <gensim.models.keyedvectors.Vocab at 0x7fc75af11710>,\n",
              " '式': <gensim.models.keyedvectors.Vocab at 0x7fc75af11750>,\n",
              " '饮用水': <gensim.models.keyedvectors.Vocab at 0x7fc75af11790>,\n",
              " '西到': <gensim.models.keyedvectors.Vocab at 0x7fc75af117d0>,\n",
              " '西直门': <gensim.models.keyedvectors.Vocab at 0x7fc75af11810>,\n",
              " '动物园': <gensim.models.keyedvectors.Vocab at 0x7fc75af11850>,\n",
              " '北到': <gensim.models.keyedvectors.Vocab at 0x7fc75af11890>,\n",
              " '积水潭': <gensim.models.keyedvectors.Vocab at 0x7fc75af118d0>,\n",
              " '新街口': <gensim.models.keyedvectors.Vocab at 0x7fc75af11910>,\n",
              " '豁口': <gensim.models.keyedvectors.Vocab at 0x7fc75af11950>,\n",
              " '南到': <gensim.models.keyedvectors.Vocab at 0x7fc75af11990>,\n",
              " '西单': <gensim.models.keyedvectors.Vocab at 0x7fc75af119d0>,\n",
              " '东到': <gensim.models.keyedvectors.Vocab at 0x7fc75af11a10>,\n",
              " '后海': <gensim.models.keyedvectors.Vocab at 0x7fc75af11a50>,\n",
              " '新开': <gensim.models.keyedvectors.Vocab at 0x7fc75af11a90>,\n",
              " '新华': <gensim.models.keyedvectors.Vocab at 0x7fc75af11ad0>,\n",
              " '百货商场': <gensim.models.keyedvectors.Vocab at 0x7fc75af11b10>,\n",
              " '逛逛': <gensim.models.keyedvectors.Vocab at 0x7fc75af11b50>,\n",
              " '居住': <gensim.models.keyedvectors.Vocab at 0x7fc75af11b90>,\n",
              " '公务': <gensim.models.keyedvectors.Vocab at 0x7fc75af11bd0>,\n",
              " '旅游': <gensim.models.keyedvectors.Vocab at 0x7fc75af11c10>,\n",
              " '内部': <gensim.models.keyedvectors.Vocab at 0x7fc75af11c50>,\n",
              " '大门口': <gensim.models.keyedvectors.Vocab at 0x7fc75af11c90>,\n",
              " '时太乱': <gensim.models.keyedvectors.Vocab at 0x7fc75af11cd0>,\n",
              " '各种': <gensim.models.keyedvectors.Vocab at 0x7fc75af11d10>,\n",
              " '车辆': <gensim.models.keyedvectors.Vocab at 0x7fc75af11d50>,\n",
              " '门口': <gensim.models.keyedvectors.Vocab at 0x7fc75af11d90>,\n",
              " '挤成一团': <gensim.models.keyedvectors.Vocab at 0x7fc75af11dd0>,\n",
              " '水压': <gensim.models.keyedvectors.Vocab at 0x7fc75af11e10>,\n",
              " '稳': <gensim.models.keyedvectors.Vocab at 0x7fc75af11e50>,\n",
              " '一会': <gensim.models.keyedvectors.Vocab at 0x7fc75af11e90>,\n",
              " '热': <gensim.models.keyedvectors.Vocab at 0x7fc75af11ed0>,\n",
              " ...}"
            ]
          },
          "metadata": {
            "tags": []
          },
          "execution_count": 14
        }
      ]
    },
    {
      "cell_type": "code",
      "metadata": {
        "id": "pJoFDlYtD9-x"
      },
      "source": [
        ""
      ],
      "execution_count": null,
      "outputs": []
    },
    {
      "cell_type": "code",
      "metadata": {
        "colab": {
          "base_uri": "https://localhost:8080/"
        },
        "id": "hu4IRtPiD-B8",
        "outputId": "114baddf-67f7-4fcf-9d34-815ad273031c"
      },
      "source": [
        "import numpy as np\n",
        "#避免後續因為索引編號為0的逗號\"，\"有衝突，因此將每一個詞彙索引編號都加1\n",
        "[1+myWord2Vec.wv.vocab[sen].index for sen in data.text[0]]"
      ],
      "execution_count": null,
      "outputs": [
        {
          "output_type": "execute_result",
          "data": {
            "text/plain": [
              "[448,\n",
              " 14412,\n",
              " 4005,\n",
              " 2595,\n",
              " 4,\n",
              " 54,\n",
              " 1590,\n",
              " 2823,\n",
              " 19,\n",
              " 65,\n",
              " 4,\n",
              " 100,\n",
              " 7,\n",
              " 342,\n",
              " 14413,\n",
              " 342,\n",
              " 233,\n",
              " 4,\n",
              " 75,\n",
              " 38,\n",
              " 891,\n",
              " 13,\n",
              " 164,\n",
              " 118,\n",
              " 667,\n",
              " 2498,\n",
              " 13,\n",
              " 9,\n",
              " 14414,\n",
              " 13]"
            ]
          },
          "metadata": {
            "tags": []
          },
          "execution_count": 15
        }
      ]
    },
    {
      "cell_type": "code",
      "metadata": {
        "id": "-oa0xZLPD-Fj"
      },
      "source": [
        "embedding_matrix = myWord2Vec.wv.vectors"
      ],
      "execution_count": null,
      "outputs": []
    },
    {
      "cell_type": "code",
      "metadata": {
        "id": "fyNeMujQGTD1",
        "colab": {
          "base_uri": "https://localhost:8080/"
        },
        "outputId": "4c2636b2-1249-4eab-cbd7-4154fa6173bb"
      },
      "source": [
        "embedding_matrix.shape"
      ],
      "execution_count": null,
      "outputs": [
        {
          "output_type": "execute_result",
          "data": {
            "text/plain": [
              "(29716, 250)"
            ]
          },
          "metadata": {
            "tags": []
          },
          "execution_count": 17
        }
      ]
    },
    {
      "cell_type": "code",
      "metadata": {
        "id": "REv9ySKPGTGu",
        "colab": {
          "base_uri": "https://localhost:8080/"
        },
        "outputId": "c62aa516-1dae-4319-83d1-faa328771791"
      },
      "source": [
        "#第一筆的資料\n",
        "embedding_matrix[0]"
      ],
      "execution_count": null,
      "outputs": [
        {
          "output_type": "execute_result",
          "data": {
            "text/plain": [
              "array([ 0.10710197,  0.04274312,  0.17860433,  0.04560723, -0.00198118,\n",
              "        0.06960344,  0.10880061, -0.01105855, -0.22642474, -0.03317486,\n",
              "       -0.1442597 , -0.08709876,  0.05649582,  0.13520437,  0.04749431,\n",
              "        0.05349465, -0.02607034,  0.11691744, -0.15236059, -0.04176781,\n",
              "        0.12683348, -0.12813377, -0.14940608,  0.0477939 , -0.2190112 ,\n",
              "       -0.06345335, -0.01471638,  0.01313288,  0.03526904, -0.29084668,\n",
              "       -0.12069716, -0.02569283, -0.26180056, -0.08043479,  0.05725394,\n",
              "        0.2330773 , -0.2931276 ,  0.1585408 , -0.00718308,  0.0819094 ,\n",
              "        0.027816  , -0.09137814, -0.09670954,  0.08288105, -0.00196256,\n",
              "        0.04015957,  0.07645441,  0.10513055,  0.2361981 , -0.15041131,\n",
              "        0.0350144 , -0.17270459,  0.07555702, -0.22367337, -0.33171389,\n",
              "        0.05477551, -0.29600415, -0.01537328,  0.18813883, -0.03583393,\n",
              "       -0.0134662 , -0.06002612,  0.19798008, -0.03932808, -0.23826048,\n",
              "        0.01420141, -0.21792848,  0.24780396, -0.00317032, -0.22805047,\n",
              "       -0.09102344,  0.12137558,  0.0184056 , -0.02835487,  0.14466752,\n",
              "       -0.04340957, -0.02211022,  0.32530048, -0.00938346,  0.01057186,\n",
              "       -0.06346997,  0.14998658,  0.12220564, -0.10904709, -0.10954031,\n",
              "        0.02148281,  0.14010715, -0.21560168, -0.04854825, -0.05005328,\n",
              "        0.04609923, -0.08897653, -0.16860761,  0.03672067,  0.01763732,\n",
              "       -0.04283715,  0.45955053,  0.311521  ,  0.17472693,  0.15255795,\n",
              "       -0.15590733, -0.27718905,  0.15974268,  0.00805758, -0.18997937,\n",
              "        0.43152177, -0.07322095,  0.0850491 ,  0.12208872, -0.3844127 ,\n",
              "        0.01332553, -0.16205437,  0.25454608, -0.03127187,  0.32042217,\n",
              "        0.07735325,  0.09752621, -0.04392748,  0.2844502 , -0.09734546,\n",
              "       -0.25280893,  0.15593451, -0.10739361,  0.05832432, -0.1349712 ,\n",
              "        0.02255659, -0.10220886, -0.05685654,  0.14040948, -0.02725643,\n",
              "        0.11040889, -0.06507353,  0.07407546,  0.33355483,  0.10335312,\n",
              "        0.01398479, -0.0523069 ,  0.02625258, -0.08836015,  0.19602591,\n",
              "        0.02896651,  0.06201427, -0.09335129, -0.06420123, -0.04231648,\n",
              "        0.19966283,  0.15110333, -0.14557771,  0.03955968,  0.08316649,\n",
              "        0.13587515,  0.09884959,  0.02007554,  0.12232927, -0.05012604,\n",
              "        0.28369364, -0.24852473,  0.16128375, -0.2342317 , -0.2360989 ,\n",
              "       -0.39373574, -0.08165735, -0.02984591, -0.18336314,  0.09560098,\n",
              "        0.0796074 , -0.13860247, -0.11629812, -0.08639694,  0.11451349,\n",
              "        0.16985214,  0.11423998, -0.04928778,  0.08110576,  0.3131348 ,\n",
              "       -0.10876215, -0.01293737, -0.11221562, -0.22308874, -0.10741074,\n",
              "        0.2232353 , -0.03766785,  0.29754853, -0.166153  ,  0.12745976,\n",
              "       -0.1471511 , -0.1680313 , -0.12887731,  0.03943649, -0.0197128 ,\n",
              "        0.25481242,  0.12195045,  0.07034048,  0.10534585,  0.14895548,\n",
              "       -0.03419632, -0.04073442,  0.17537983,  0.02450038,  0.01228885,\n",
              "        0.1260724 ,  0.0564105 ,  0.11563193, -0.25310823, -0.1227816 ,\n",
              "       -0.01317084,  0.04932692,  0.12543276,  0.16989963,  0.06915788,\n",
              "       -0.0270728 , -0.0194484 ,  0.27721027,  0.06508134,  0.03412594,\n",
              "        0.06928455,  0.04659593, -0.06154349, -0.10826045, -0.36601987,\n",
              "       -0.04532219, -0.03618808,  0.10593114, -0.06712709, -0.13797364,\n",
              "       -0.13843827, -0.15035395,  0.14686927,  0.02325169,  0.19003266,\n",
              "        0.00513518,  0.02529087,  0.21074073, -0.18301916, -0.109116  ,\n",
              "       -0.01666206, -0.24299361,  0.21164137, -0.05933665, -0.08827571,\n",
              "        0.04573126,  0.11408538,  0.09832173, -0.19450219, -0.01254613,\n",
              "       -0.29611784, -0.08214123,  0.29700994, -0.02316689, -0.11812688],\n",
              "      dtype=float32)"
            ]
          },
          "metadata": {
            "tags": []
          },
          "execution_count": 18
        }
      ]
    },
    {
      "cell_type": "code",
      "metadata": {
        "id": "LucuS7gFGTJo"
      },
      "source": [
        "#np.vstack()跟np.hstack()\n",
        "embedding_matrix = np.vstack((np.array(np.zeros(250)),embedding_matrix))"
      ],
      "execution_count": null,
      "outputs": []
    },
    {
      "cell_type": "code",
      "metadata": {
        "id": "hBWgtJs9GTMu",
        "colab": {
          "base_uri": "https://localhost:8080/"
        },
        "outputId": "9157f456-1430-48bc-e031-87bba6d2143b"
      },
      "source": [
        "embedding_matrix.shape"
      ],
      "execution_count": null,
      "outputs": [
        {
          "output_type": "execute_result",
          "data": {
            "text/plain": [
              "(29717, 250)"
            ]
          },
          "metadata": {
            "tags": []
          },
          "execution_count": 20
        }
      ]
    },
    {
      "cell_type": "code",
      "metadata": {
        "id": "zdWq8YSDGTPy",
        "colab": {
          "base_uri": "https://localhost:8080/"
        },
        "outputId": "c1e98dde-dc76-47f4-ef47-2bf9ca2f4c35"
      },
      "source": [
        "embedding_matrix[0]"
      ],
      "execution_count": null,
      "outputs": [
        {
          "output_type": "execute_result",
          "data": {
            "text/plain": [
              "array([0., 0., 0., 0., 0., 0., 0., 0., 0., 0., 0., 0., 0., 0., 0., 0., 0.,\n",
              "       0., 0., 0., 0., 0., 0., 0., 0., 0., 0., 0., 0., 0., 0., 0., 0., 0.,\n",
              "       0., 0., 0., 0., 0., 0., 0., 0., 0., 0., 0., 0., 0., 0., 0., 0., 0.,\n",
              "       0., 0., 0., 0., 0., 0., 0., 0., 0., 0., 0., 0., 0., 0., 0., 0., 0.,\n",
              "       0., 0., 0., 0., 0., 0., 0., 0., 0., 0., 0., 0., 0., 0., 0., 0., 0.,\n",
              "       0., 0., 0., 0., 0., 0., 0., 0., 0., 0., 0., 0., 0., 0., 0., 0., 0.,\n",
              "       0., 0., 0., 0., 0., 0., 0., 0., 0., 0., 0., 0., 0., 0., 0., 0., 0.,\n",
              "       0., 0., 0., 0., 0., 0., 0., 0., 0., 0., 0., 0., 0., 0., 0., 0., 0.,\n",
              "       0., 0., 0., 0., 0., 0., 0., 0., 0., 0., 0., 0., 0., 0., 0., 0., 0.,\n",
              "       0., 0., 0., 0., 0., 0., 0., 0., 0., 0., 0., 0., 0., 0., 0., 0., 0.,\n",
              "       0., 0., 0., 0., 0., 0., 0., 0., 0., 0., 0., 0., 0., 0., 0., 0., 0.,\n",
              "       0., 0., 0., 0., 0., 0., 0., 0., 0., 0., 0., 0., 0., 0., 0., 0., 0.,\n",
              "       0., 0., 0., 0., 0., 0., 0., 0., 0., 0., 0., 0., 0., 0., 0., 0., 0.,\n",
              "       0., 0., 0., 0., 0., 0., 0., 0., 0., 0., 0., 0., 0., 0., 0., 0., 0.,\n",
              "       0., 0., 0., 0., 0., 0., 0., 0., 0., 0., 0., 0.])"
            ]
          },
          "metadata": {
            "tags": []
          },
          "execution_count": 21
        }
      ]
    },
    {
      "cell_type": "code",
      "metadata": {
        "id": "PqZtq5G2Gh-D"
      },
      "source": [
        "#準備訓練資料\n",
        "X = np.zeros([len(data.text),30],dtype='float64')"
      ],
      "execution_count": null,
      "outputs": []
    },
    {
      "cell_type": "code",
      "metadata": {
        "id": "IsZPHcVVGiA2",
        "colab": {
          "base_uri": "https://localhost:8080/"
        },
        "outputId": "ccf503f1-791d-4131-aa7b-3a8b8a891634"
      },
      "source": [
        "X"
      ],
      "execution_count": null,
      "outputs": [
        {
          "output_type": "execute_result",
          "data": {
            "text/plain": [
              "array([[0., 0., 0., ..., 0., 0., 0.],\n",
              "       [0., 0., 0., ..., 0., 0., 0.],\n",
              "       [0., 0., 0., ..., 0., 0., 0.],\n",
              "       ...,\n",
              "       [0., 0., 0., ..., 0., 0., 0.],\n",
              "       [0., 0., 0., ..., 0., 0., 0.],\n",
              "       [0., 0., 0., ..., 0., 0., 0.]])"
            ]
          },
          "metadata": {
            "tags": []
          },
          "execution_count": 23
        }
      ]
    },
    {
      "cell_type": "code",
      "metadata": {
        "id": "8fCaPxL6GiD3",
        "colab": {
          "base_uri": "https://localhost:8080/"
        },
        "outputId": "95d3f3f8-4ab1-4da8-c89c-6d86fd78d70b"
      },
      "source": [
        "data.text"
      ],
      "execution_count": null,
      "outputs": [
        {
          "output_type": "execute_result",
          "data": {
            "text/plain": [
              "0       [距离, 川沙, 公路, 较近, ,, 但是, 公交, 指示, 不, 对, ,, 如果, 是...\n",
              "1       [商务, 大床, 房, ，, 房间, 很大, ，, 床有, 2M, 宽, ，, 整体, 感觉...\n",
              "2       [早餐, 太, 差, ，, 无论, 去, 多少, 人, ，, 那边, 也, 不加, 食品, ...\n",
              "3       [宾馆, 在, 小, 街道, 上, ，, 不大好, 找, ，, 但, 还好, 北京, 热心,...\n",
              "4       [CBD, 中心, ,, 周围, 没什么, 店铺, ,, 说, 5, 星, 有点, 勉强, ...\n",
              "                              ...                        \n",
              "7761    [尼斯, 酒店, 的, 几大, 特点, ：, 噪音, 大, 、, 环境, 差, 、, 配置,...\n",
              "7762    [盐城, 来, 了, 很, 多次, ，, 第一次, 住, 盐阜, 宾馆, ，, 我, 的确,...\n",
              "7763    [看, 照片, 觉得, 还, 挺不错, 的, ，, 又, 是, 4, 星级, 的, ，, 但...\n",
              "7764    [我们, 去, 盐城, 的, 时候, 那里, 的, 最低气温, 只有, 4, 度, ，, 晚...\n",
              "7765    [说, 实在, 的, 我, 很, 失望, ，, 之前, 看, 了, 其他人, 的, 点评, ...\n",
              "Name: text, Length: 7766, dtype: object"
            ]
          },
          "metadata": {
            "tags": []
          },
          "execution_count": 24
        }
      ]
    },
    {
      "cell_type": "code",
      "metadata": {
        "id": "uHAEvJkpGpPV"
      },
      "source": [
        "for i in range(len(data.text)):\n",
        "  for j in range(min(len(data.text[i]),30)):\n",
        "    X[i,j] = 1+myWord2Vec.wv.vocab[data.text[i][j]].index"
      ],
      "execution_count": null,
      "outputs": []
    },
    {
      "cell_type": "code",
      "metadata": {
        "id": "AMMs8LIxGpSV",
        "colab": {
          "base_uri": "https://localhost:8080/"
        },
        "outputId": "50defc13-ef5e-4c40-92b0-5ce6aeea46a8"
      },
      "source": [
        "X.shape"
      ],
      "execution_count": null,
      "outputs": [
        {
          "output_type": "execute_result",
          "data": {
            "text/plain": [
              "(7766, 30)"
            ]
          },
          "metadata": {
            "tags": []
          },
          "execution_count": 26
        }
      ]
    },
    {
      "cell_type": "code",
      "metadata": {
        "id": "UR1GqoqZGpUr",
        "colab": {
          "base_uri": "https://localhost:8080/"
        },
        "outputId": "f1e5ec32-216d-4e28-b716-3cb5b828df4f"
      },
      "source": [
        "X[0]"
      ],
      "execution_count": null,
      "outputs": [
        {
          "output_type": "execute_result",
          "data": {
            "text/plain": [
              "array([4.4800e+02, 1.4412e+04, 4.0050e+03, 2.5950e+03, 4.0000e+00,\n",
              "       5.4000e+01, 1.5900e+03, 2.8230e+03, 1.9000e+01, 6.5000e+01,\n",
              "       4.0000e+00, 1.0000e+02, 7.0000e+00, 3.4200e+02, 1.4413e+04,\n",
              "       3.4200e+02, 2.3300e+02, 4.0000e+00, 7.5000e+01, 3.8000e+01,\n",
              "       8.9100e+02, 1.3000e+01, 1.6400e+02, 1.1800e+02, 6.6700e+02,\n",
              "       2.4980e+03, 1.3000e+01, 9.0000e+00, 1.4414e+04, 1.3000e+01])"
            ]
          },
          "metadata": {
            "tags": []
          },
          "execution_count": 27
        }
      ]
    },
    {
      "cell_type": "code",
      "metadata": {
        "id": "GAreVNVrGpXU"
      },
      "source": [
        "y = data.label"
      ],
      "execution_count": null,
      "outputs": []
    },
    {
      "cell_type": "code",
      "metadata": {
        "id": "kpBOmHh7GpZ_",
        "colab": {
          "base_uri": "https://localhost:8080/"
        },
        "outputId": "d559da5f-f88a-4f7d-e558-2217ae3afeb5"
      },
      "source": [
        "y"
      ],
      "execution_count": null,
      "outputs": [
        {
          "output_type": "execute_result",
          "data": {
            "text/plain": [
              "0       1\n",
              "1       1\n",
              "2       1\n",
              "3       1\n",
              "4       1\n",
              "       ..\n",
              "7761    0\n",
              "7762    0\n",
              "7763    0\n",
              "7764    0\n",
              "7765    0\n",
              "Name: label, Length: 7766, dtype: int64"
            ]
          },
          "metadata": {
            "tags": []
          },
          "execution_count": 29
        }
      ]
    },
    {
      "cell_type": "code",
      "metadata": {
        "id": "V6N6szmvGpc6"
      },
      "source": [
        "from sklearn.model_selection import train_test_split\n",
        "\n",
        "X_train, X_test, y_train, y_test = train_test_split(X, y, test_size=0.4,random_state=0,stratify=y)\n"
      ],
      "execution_count": null,
      "outputs": []
    },
    {
      "cell_type": "code",
      "metadata": {
        "id": "Xoh-zC-DGpfj",
        "colab": {
          "base_uri": "https://localhost:8080/"
        },
        "outputId": "d04b6a99-331d-45da-92e2-46f576f19927"
      },
      "source": [
        "len(X_train)"
      ],
      "execution_count": null,
      "outputs": [
        {
          "output_type": "execute_result",
          "data": {
            "text/plain": [
              "4659"
            ]
          },
          "metadata": {
            "tags": []
          },
          "execution_count": 83
        }
      ]
    },
    {
      "cell_type": "code",
      "metadata": {
        "id": "RgRg3MUwGpio",
        "colab": {
          "base_uri": "https://localhost:8080/"
        },
        "outputId": "f10e7751-fc21-4262-84d9-f78e3289a490"
      },
      "source": [
        "len(X_test)"
      ],
      "execution_count": null,
      "outputs": [
        {
          "output_type": "execute_result",
          "data": {
            "text/plain": [
              "3107"
            ]
          },
          "metadata": {
            "tags": []
          },
          "execution_count": 84
        }
      ]
    },
    {
      "cell_type": "code",
      "metadata": {
        "id": "nhQhCu1PGplL",
        "colab": {
          "base_uri": "https://localhost:8080/"
        },
        "outputId": "f4993483-c0d2-40b3-8f4b-3a866befd0e1"
      },
      "source": [
        "len(y_train)"
      ],
      "execution_count": null,
      "outputs": [
        {
          "output_type": "execute_result",
          "data": {
            "text/plain": [
              "4659"
            ]
          },
          "metadata": {
            "tags": []
          },
          "execution_count": 85
        }
      ]
    },
    {
      "cell_type": "code",
      "metadata": {
        "id": "sEr8hhBkGpnu",
        "colab": {
          "base_uri": "https://localhost:8080/"
        },
        "outputId": "b21d69d5-8779-4501-bd30-98cdaf5f6e73"
      },
      "source": [
        "len(y_test)"
      ],
      "execution_count": null,
      "outputs": [
        {
          "output_type": "execute_result",
          "data": {
            "text/plain": [
              "3107"
            ]
          },
          "metadata": {
            "tags": []
          },
          "execution_count": 86
        }
      ]
    },
    {
      "cell_type": "code",
      "metadata": {
        "id": "xEoSdM8UGiGb"
      },
      "source": [
        ""
      ],
      "execution_count": null,
      "outputs": []
    },
    {
      "cell_type": "code",
      "metadata": {
        "id": "iVfGBU8qG5-S"
      },
      "source": [
        "import tensorflow as tf\n",
        "from tensorflow import keras\n",
        "from tensorflow.keras import layers"
      ],
      "execution_count": null,
      "outputs": []
    },
    {
      "cell_type": "code",
      "metadata": {
        "id": "udO0v4WaG8MZ",
        "colab": {
          "base_uri": "https://localhost:8080/",
          "height": 422
        },
        "outputId": "46b438e0-0db1-4eb5-c9e3-bd7e3a7079c9"
      },
      "source": [
        "#要開始架構RNN網路\n",
        "RNN = keras.Sequential(name='RNN')\n",
        "RNN.add(layers.Embedding(len(myWord2Vec.wv.vocab)+1,250))\n",
        "RNN.add(layers.SimpleRNN(64))\n",
        "RNN.add(layers.Dense(2,activation = \"softmax\"))\n",
        "keras.utils.plot_model(RNN,show_shapes=True)"
      ],
      "execution_count": null,
      "outputs": [
        {
          "output_type": "execute_result",
          "data": {
            "image/png": "[encoded data removed]",
            "text/plain": [
              "<IPython.core.display.Image object>"
            ]
          },
          "metadata": {
            "tags": []
          },
          "execution_count": 88
        }
      ]
    },
    {
      "cell_type": "code",
      "metadata": {
        "id": "5Adg9-QmG8PN",
        "colab": {
          "base_uri": "https://localhost:8080/"
        },
        "outputId": "1847bb35-443d-4eb1-8c49-831064d84776"
      },
      "source": [
        "RNN.summary()"
      ],
      "execution_count": null,
      "outputs": [
        {
          "output_type": "stream",
          "text": [
            "Model: \"RNN\"\n",
            "_________________________________________________________________\n",
            "Layer (type)                 Output Shape              Param #   \n",
            "=================================================================\n",
            "embedding_3 (Embedding)      (None, None, 250)         7429250   \n",
            "_________________________________________________________________\n",
            "simple_rnn_3 (SimpleRNN)     (None, 64)                20160     \n",
            "_________________________________________________________________\n",
            "dense_3 (Dense)              (None, 2)                 130       \n",
            "=================================================================\n",
            "Total params: 7,449,540\n",
            "Trainable params: 7,449,540\n",
            "Non-trainable params: 0\n",
            "_________________________________________________________________\n"
          ],
          "name": "stdout"
        }
      ]
    },
    {
      "cell_type": "code",
      "metadata": {
        "id": "QXp7G9BeG8Sd",
        "colab": {
          "base_uri": "https://localhost:8080/"
        },
        "outputId": "ee16173e-e3c9-4737-89dd-eb9af54267d8"
      },
      "source": [
        "RNN.layers[0].set_weights([embedding_matrix])\n",
        "RNN.layers[0].trainable = False\n",
        "RNN.summary()"
      ],
      "execution_count": null,
      "outputs": [
        {
          "output_type": "stream",
          "text": [
            "Model: \"RNN\"\n",
            "_________________________________________________________________\n",
            "Layer (type)                 Output Shape              Param #   \n",
            "=================================================================\n",
            "embedding_3 (Embedding)      (None, None, 250)         7429250   \n",
            "_________________________________________________________________\n",
            "simple_rnn_3 (SimpleRNN)     (None, 64)                20160     \n",
            "_________________________________________________________________\n",
            "dense_3 (Dense)              (None, 2)                 130       \n",
            "=================================================================\n",
            "Total params: 7,449,540\n",
            "Trainable params: 20,290\n",
            "Non-trainable params: 7,429,250\n",
            "_________________________________________________________________\n"
          ],
          "name": "stdout"
        }
      ]
    },
    {
      "cell_type": "code",
      "metadata": {
        "id": "PGKk865qG8Uv"
      },
      "source": [
        "RNN.compile(optimizer = 'Adam',loss = keras.losses.sparse_categorical_crossentropy,metrics=['accuracy'])"
      ],
      "execution_count": null,
      "outputs": []
    },
    {
      "cell_type": "code",
      "metadata": {
        "id": "W5Enk9f4G6BN",
        "colab": {
          "base_uri": "https://localhost:8080/"
        },
        "outputId": "02db48f8-474b-4402-e7dc-eee67d86bf3a"
      },
      "source": [
        "RNN.fit(X_train,y_train,epochs=30)"
      ],
      "execution_count": null,
      "outputs": [
        {
          "output_type": "stream",
          "text": [
            "Epoch 1/30\n",
            "146/146 [==============================] - 3s 11ms/step - loss: 0.6141 - accuracy: 0.6864\n",
            "Epoch 2/30\n",
            "146/146 [==============================] - 2s 11ms/step - loss: 0.5413 - accuracy: 0.7504\n",
            "Epoch 3/30\n",
            "146/146 [==============================] - 2s 11ms/step - loss: 0.4613 - accuracy: 0.7892\n",
            "Epoch 4/30\n",
            "146/146 [==============================] - 2s 10ms/step - loss: 0.4263 - accuracy: 0.8206\n",
            "Epoch 5/30\n",
            "146/146 [==============================] - 2s 10ms/step - loss: 0.4096 - accuracy: 0.8178\n",
            "Epoch 6/30\n",
            "146/146 [==============================] - 2s 10ms/step - loss: 0.4028 - accuracy: 0.8287\n",
            "Epoch 7/30\n",
            "146/146 [==============================] - 1s 10ms/step - loss: 0.3675 - accuracy: 0.8461\n",
            "Epoch 8/30\n",
            "146/146 [==============================] - 2s 11ms/step - loss: 0.3504 - accuracy: 0.8555\n",
            "Epoch 9/30\n",
            "146/146 [==============================] - 2s 11ms/step - loss: 0.3204 - accuracy: 0.8714\n",
            "Epoch 10/30\n",
            "146/146 [==============================] - 2s 11ms/step - loss: 0.2975 - accuracy: 0.8817\n",
            "Epoch 11/30\n",
            "146/146 [==============================] - 2s 11ms/step - loss: 0.2620 - accuracy: 0.9011\n",
            "Epoch 12/30\n",
            "146/146 [==============================] - 2s 11ms/step - loss: 0.2683 - accuracy: 0.8931\n",
            "Epoch 13/30\n",
            "146/146 [==============================] - 2s 11ms/step - loss: 0.2176 - accuracy: 0.9242\n",
            "Epoch 14/30\n",
            "146/146 [==============================] - 2s 10ms/step - loss: 0.1865 - accuracy: 0.9328\n",
            "Epoch 15/30\n",
            "146/146 [==============================] - 1s 10ms/step - loss: 0.1719 - accuracy: 0.9401\n",
            "Epoch 16/30\n",
            "146/146 [==============================] - 1s 10ms/step - loss: 0.1631 - accuracy: 0.9418\n",
            "Epoch 17/30\n",
            "146/146 [==============================] - 1s 10ms/step - loss: 0.1598 - accuracy: 0.9416\n",
            "Epoch 18/30\n",
            "146/146 [==============================] - 1s 10ms/step - loss: 0.2134 - accuracy: 0.9193\n",
            "Epoch 19/30\n",
            "146/146 [==============================] - 1s 10ms/step - loss: 0.1055 - accuracy: 0.9663\n",
            "Epoch 20/30\n",
            "146/146 [==============================] - 1s 10ms/step - loss: 0.0735 - accuracy: 0.9798\n",
            "Epoch 21/30\n",
            "146/146 [==============================] - 1s 10ms/step - loss: 0.1695 - accuracy: 0.9386\n",
            "Epoch 22/30\n",
            "146/146 [==============================] - 1s 10ms/step - loss: 0.0880 - accuracy: 0.9727\n",
            "Epoch 23/30\n",
            "146/146 [==============================] - 1s 10ms/step - loss: 0.0743 - accuracy: 0.9777\n",
            "Epoch 24/30\n",
            "146/146 [==============================] - 1s 10ms/step - loss: 0.1008 - accuracy: 0.9682\n",
            "Epoch 25/30\n",
            "146/146 [==============================] - 2s 10ms/step - loss: 0.1256 - accuracy: 0.9594\n",
            "Epoch 26/30\n",
            "146/146 [==============================] - 1s 10ms/step - loss: 0.0819 - accuracy: 0.9725\n",
            "Epoch 27/30\n",
            "146/146 [==============================] - 1s 10ms/step - loss: 0.0355 - accuracy: 0.9918\n",
            "Epoch 28/30\n",
            "146/146 [==============================] - 1s 10ms/step - loss: 0.0246 - accuracy: 0.9944\n",
            "Epoch 29/30\n",
            "146/146 [==============================] - 2s 10ms/step - loss: 0.0283 - accuracy: 0.9936\n",
            "Epoch 30/30\n",
            "146/146 [==============================] - 1s 10ms/step - loss: 0.0812 - accuracy: 0.9745\n"
          ],
          "name": "stdout"
        },
        {
          "output_type": "execute_result",
          "data": {
            "text/plain": [
              "<tensorflow.python.keras.callbacks.History at 0x7fc714347e90>"
            ]
          },
          "metadata": {
            "tags": []
          },
          "execution_count": 92
        }
      ]
    },
    {
      "cell_type": "code",
      "metadata": {
        "id": "O6S70x2pG6D_",
        "colab": {
          "base_uri": "https://localhost:8080/"
        },
        "outputId": "e62d92cf-356f-40da-9208-9c9c5a5391f0"
      },
      "source": [
        "from sklearn import metrics\n",
        "\n",
        "#預測\n",
        "y_test_predicted = RNN.predict_classes(X_test)\n",
        "\n",
        "# 績效\n",
        "accuracy = metrics.accuracy_score(y_test, y_test_predicted)\n",
        "print(accuracy)\n"
      ],
      "execution_count": null,
      "outputs": [
        {
          "output_type": "stream",
          "text": [
            "/usr/local/lib/python3.7/dist-packages/tensorflow/python/keras/engine/sequential.py:455: UserWarning: `model.predict_classes()` is deprecated and will be removed after 2021-01-01. Please use instead:* `np.argmax(model.predict(x), axis=-1)`,   if your model does multi-class classification   (e.g. if it uses a `softmax` last-layer activation).* `(model.predict(x) > 0.5).astype(\"int32\")`,   if your model does binary classification   (e.g. if it uses a `sigmoid` last-layer activation).\n",
            "  warnings.warn('`model.predict_classes()` is deprecated and '\n"
          ],
          "name": "stderr"
        },
        {
          "output_type": "stream",
          "text": [
            "0.7524943675571291\n"
          ],
          "name": "stdout"
        }
      ]
    },
    {
      "cell_type": "code",
      "metadata": {
        "id": "hecXChoPG6GZ",
        "colab": {
          "base_uri": "https://localhost:8080/"
        },
        "outputId": "7824455d-2c59-491e-e596-fb3388c9fbf5"
      },
      "source": [
        "y_test_predicted"
      ],
      "execution_count": null,
      "outputs": [
        {
          "output_type": "execute_result",
          "data": {
            "text/plain": [
              "array([1, 1, 1, ..., 1, 0, 1])"
            ]
          },
          "metadata": {
            "tags": []
          },
          "execution_count": 95
        }
      ]
    },
    {
      "cell_type": "code",
      "metadata": {
        "colab": {
          "base_uri": "https://localhost:8080/"
        },
        "id": "yWYd6rUbPVY5",
        "outputId": "6c877781-7282-46f2-955b-160cfe66cd18"
      },
      "source": [
        "from sklearn.metrics import classification_report\n",
        "print(classification_report(y_test,y_test_predicted))"
      ],
      "execution_count": null,
      "outputs": [
        {
          "output_type": "stream",
          "text": [
            "              precision    recall  f1-score   support\n",
            "\n",
            "           0       0.60      0.64      0.62       978\n",
            "           1       0.83      0.80      0.82      2129\n",
            "\n",
            "    accuracy                           0.75      3107\n",
            "   macro avg       0.71      0.72      0.72      3107\n",
            "weighted avg       0.76      0.75      0.75      3107\n",
            "\n"
          ],
          "name": "stdout"
        }
      ]
    },
    {
      "cell_type": "code",
      "metadata": {
        "colab": {
          "base_uri": "https://localhost:8080/"
        },
        "id": "itXzwqltPVgV",
        "outputId": "e47c0b09-2532-4b13-9819-d1b9fc197ef6"
      },
      "source": [
        "from sklearn import metrics\n",
        "\n",
        "print(\"Accuracy:\",metrics.accuracy_score(y_test,y_test_predicted))\n",
        "print(\"Precision:\",metrics.precision_score(y_test,y_test_predicted))\n",
        "print(\"Recall:\",metrics.recall_score(y_test,y_test_predicted))"
      ],
      "execution_count": null,
      "outputs": [
        {
          "output_type": "stream",
          "text": [
            "Accuracy: 0.7524943675571291\n",
            "Precision: 0.8300970873786407\n",
            "Recall: 0.8031939877876938\n"
          ],
          "name": "stdout"
        }
      ]
    },
    {
      "cell_type": "code",
      "metadata": {
        "colab": {
          "base_uri": "https://localhost:8080/"
        },
        "id": "FlWNSzjfPVlu",
        "outputId": "32cddbc0-a95b-473a-8c9d-dadf4b51ea90"
      },
      "source": [
        "from sklearn.metrics import confusion_matrix\n",
        "matrix=confusion_matrix(y_test,y_test_predicted)\n",
        "print(matrix)"
      ],
      "execution_count": null,
      "outputs": [
        {
          "output_type": "stream",
          "text": [
            "[[ 628  350]\n",
            " [ 419 1710]]\n"
          ],
          "name": "stdout"
        }
      ]
    },
    {
      "cell_type": "code",
      "metadata": {
        "colab": {
          "base_uri": "https://localhost:8080/",
          "height": 342
        },
        "id": "cmwLAcCOPcpc",
        "outputId": "f5173514-5bd3-4486-b90d-eb659ffcadf8"
      },
      "source": [
        "#混淆矩陣視覺化(Heatmap)\n",
        "import numpy as np\n",
        "import matplotlib.pyplot as plt\n",
        "import seaborn as sns\n",
        "%matplotlib inline\n",
        "class_names=[0,1] # name  of classes\n",
        "fig, ax = plt.subplots()\n",
        "tick_marks = np.arange(len(class_names))\n",
        "plt.xticks(tick_marks, class_names)\n",
        "plt.yticks(tick_marks, class_names)\n",
        "# create heatmap\n",
        "sns.heatmap(pd.DataFrame(matrix), annot=True, cmap=\"YlGnBu\" ,fmt='g')\n",
        "ax.xaxis.set_label_position(\"top\")\n",
        "plt.tight_layout()\n",
        "plt.title('Confusion matrix', y=1.1)\n",
        "plt.ylabel('Actual label')\n",
        "plt.xlabel('Predicted label')"
      ],
      "execution_count": null,
      "outputs": [
        {
          "output_type": "execute_result",
          "data": {
            "text/plain": [
              "Text(0.5, 257.44, 'Predicted label')"
            ]
          },
          "metadata": {
            "tags": []
          },
          "execution_count": 99
        },
        {
          "output_type": "display_data",
          "data": {
            "image/png": "[encoded data removed]",
            "text/plain": [
              "<Figure size 432x288 with 2 Axes>"
            ]
          },
          "metadata": {
            "tags": [],
            "needs_background": "light"
          }
        }
      ]
    },
    {
      "cell_type": "code",
      "metadata": {
        "id": "98LJRGP5PcuQ"
      },
      "source": [
        ""
      ],
      "execution_count": null,
      "outputs": []
    },
    {
      "cell_type": "code",
      "metadata": {
        "id": "uGO6yJ0SPcxl"
      },
      "source": [
        ""
      ],
      "execution_count": null,
      "outputs": []
    },
    {
      "cell_type": "code",
      "metadata": {
        "id": "UI6rzlrPPczX"
      },
      "source": [
        ""
      ],
      "execution_count": null,
      "outputs": []
    }
  ]
}