{
  "nbformat": 4,
  "nbformat_minor": 0,
  "metadata": {
    "colab": {
      "name": "期末作業斷字.ipynb",
      "provenance": [],
      "collapsed_sections": []
    },
    "kernelspec": {
      "name": "python3",
      "display_name": "Python 3"
    },
    "language_info": {
      "name": "python"
    }
  },
  "cells": [
    {
      "cell_type": "code",
      "metadata": {
        "id": "3qicbTuxvAdv"
      },
      "source": [
        "import pandas as pd\n",
        "import numpy as np"
      ],
      "execution_count": null,
      "outputs": []
    },
    {
      "cell_type": "code",
      "metadata": {
        "id": "OAosOM5QwOXj"
      },
      "source": [
        "df = pd.read_csv('https://raw.githubusercontent.com/SophonPlus/ChineseNlpCorpus/master/datasets/ChnSentiCorp_htl_all/ChnSentiCorp_htl_all.csv')"
      ],
      "execution_count": null,
      "outputs": []
    },
    {
      "cell_type": "code",
      "metadata": {
        "colab": {
          "base_uri": "https://localhost:8080/",
          "height": 204
        },
        "id": "MtvTsaCHwOaT",
        "outputId": "1432e279-9037-443d-c4e7-d881e72b4e8d"
      },
      "source": [
        "df.head()"
      ],
      "execution_count": null,
      "outputs": [
        {
          "output_type": "execute_result",
          "data": {
            "text/html": [
              "<div>\n",
              "<style scoped>\n",
              "    .dataframe tbody tr th:only-of-type {\n",
              "        vertical-align: middle;\n",
              "    }\n",
              "\n",
              "    .dataframe tbody tr th {\n",
              "        vertical-align: top;\n",
              "    }\n",
              "\n",
              "    .dataframe thead th {\n",
              "        text-align: right;\n",
              "    }\n",
              "</style>\n",
              "<table border=\"1\" class=\"dataframe\">\n",
              "  <thead>\n",
              "    <tr style=\"text-align: right;\">\n",
              "      <th></th>\n",
              "      <th>label</th>\n",
              "      <th>review</th>\n",
              "    </tr>\n",
              "  </thead>\n",
              "  <tbody>\n",
              "    <tr>\n",
              "      <th>0</th>\n",
              "      <td>1</td>\n",
              "      <td>距离川沙公路较近,但是公交指示不对,如果是\"蔡陆线\"的话,会非常麻烦.建议用别的路线.房间较...</td>\n",
              "    </tr>\n",
              "    <tr>\n",
              "      <th>1</th>\n",
              "      <td>1</td>\n",
              "      <td>商务大床房，房间很大，床有2M宽，整体感觉经济实惠不错!</td>\n",
              "    </tr>\n",
              "    <tr>\n",
              "      <th>2</th>\n",
              "      <td>1</td>\n",
              "      <td>早餐太差，无论去多少人，那边也不加食品的。酒店应该重视一下这个问题了。房间本身很好。</td>\n",
              "    </tr>\n",
              "    <tr>\n",
              "      <th>3</th>\n",
              "      <td>1</td>\n",
              "      <td>宾馆在小街道上，不大好找，但还好北京热心同胞很多~宾馆设施跟介绍的差不多，房间很小，确实挺小...</td>\n",
              "    </tr>\n",
              "    <tr>\n",
              "      <th>4</th>\n",
              "      <td>1</td>\n",
              "      <td>CBD中心,周围没什么店铺,说5星有点勉强.不知道为什么卫生间没有电吹风</td>\n",
              "    </tr>\n",
              "  </tbody>\n",
              "</table>\n",
              "</div>"
            ],
            "text/plain": [
              "   label                                             review\n",
              "0      1  距离川沙公路较近,但是公交指示不对,如果是\"蔡陆线\"的话,会非常麻烦.建议用别的路线.房间较...\n",
              "1      1                       商务大床房，房间很大，床有2M宽，整体感觉经济实惠不错!\n",
              "2      1         早餐太差，无论去多少人，那边也不加食品的。酒店应该重视一下这个问题了。房间本身很好。\n",
              "3      1  宾馆在小街道上，不大好找，但还好北京热心同胞很多~宾馆设施跟介绍的差不多，房间很小，确实挺小...\n",
              "4      1               CBD中心,周围没什么店铺,说5星有点勉强.不知道为什么卫生间没有电吹风"
            ]
          },
          "metadata": {
            "tags": []
          },
          "execution_count": 3
        }
      ]
    },
    {
      "cell_type": "code",
      "metadata": {
        "id": "RjzRH9GbwOdL"
      },
      "source": [
        "df['review'] = df['review'].astype(str)"
      ],
      "execution_count": null,
      "outputs": []
    },
    {
      "cell_type": "code",
      "metadata": {
        "id": "7_LDvZI1wOfy"
      },
      "source": [
        "import re"
      ],
      "execution_count": null,
      "outputs": []
    },
    {
      "cell_type": "code",
      "metadata": {
        "id": "yPwBI4EtwOii"
      },
      "source": [
        "pattern = re.compile('.{1}')"
      ],
      "execution_count": null,
      "outputs": []
    },
    {
      "cell_type": "code",
      "metadata": {
        "colab": {
          "base_uri": "https://localhost:8080/"
        },
        "id": "aREfrwBbwOlZ",
        "outputId": "52805af2-0df9-49bc-f5a4-c485ecd10c8c"
      },
      "source": [
        "pattern.findall(df.review[0])"
      ],
      "execution_count": null,
      "outputs": [
        {
          "output_type": "execute_result",
          "data": {
            "text/plain": [
              "['距',\n",
              " '离',\n",
              " '川',\n",
              " '沙',\n",
              " '公',\n",
              " '路',\n",
              " '较',\n",
              " '近',\n",
              " ',',\n",
              " '但',\n",
              " '是',\n",
              " '公',\n",
              " '交',\n",
              " '指',\n",
              " '示',\n",
              " '不',\n",
              " '对',\n",
              " ',',\n",
              " '如',\n",
              " '果',\n",
              " '是',\n",
              " '\"',\n",
              " '蔡',\n",
              " '陆',\n",
              " '线',\n",
              " '\"',\n",
              " '的',\n",
              " '话',\n",
              " ',',\n",
              " '会',\n",
              " '非',\n",
              " '常',\n",
              " '麻',\n",
              " '烦',\n",
              " '.',\n",
              " '建',\n",
              " '议',\n",
              " '用',\n",
              " '别',\n",
              " '的',\n",
              " '路',\n",
              " '线',\n",
              " '.',\n",
              " '房',\n",
              " '间',\n",
              " '较',\n",
              " '为',\n",
              " '简',\n",
              " '单',\n",
              " '.']"
            ]
          },
          "metadata": {
            "tags": []
          },
          "execution_count": 7
        }
      ]
    },
    {
      "cell_type": "code",
      "metadata": {
        "id": "yLFccQn3wOoS"
      },
      "source": [
        "mydata = [pattern.findall(s) for s in df.review]"
      ],
      "execution_count": null,
      "outputs": []
    },
    {
      "cell_type": "code",
      "metadata": {
        "id": "mNXoxXSDwOq2"
      },
      "source": [
        "mydata"
      ],
      "execution_count": null,
      "outputs": []
    },
    {
      "cell_type": "code",
      "metadata": {
        "colab": {
          "base_uri": "https://localhost:8080/"
        },
        "id": "bYXLYn52wOuF",
        "outputId": "68ee9f31-2852-4163-c31d-a247f47499fc"
      },
      "source": [
        "mydata[0]"
      ],
      "execution_count": null,
      "outputs": [
        {
          "output_type": "execute_result",
          "data": {
            "text/plain": [
              "['距',\n",
              " '离',\n",
              " '川',\n",
              " '沙',\n",
              " '公',\n",
              " '路',\n",
              " '较',\n",
              " '近',\n",
              " ',',\n",
              " '但',\n",
              " '是',\n",
              " '公',\n",
              " '交',\n",
              " '指',\n",
              " '示',\n",
              " '不',\n",
              " '对',\n",
              " ',',\n",
              " '如',\n",
              " '果',\n",
              " '是',\n",
              " '\"',\n",
              " '蔡',\n",
              " '陆',\n",
              " '线',\n",
              " '\"',\n",
              " '的',\n",
              " '话',\n",
              " ',',\n",
              " '会',\n",
              " '非',\n",
              " '常',\n",
              " '麻',\n",
              " '烦',\n",
              " '.',\n",
              " '建',\n",
              " '议',\n",
              " '用',\n",
              " '别',\n",
              " '的',\n",
              " '路',\n",
              " '线',\n",
              " '.',\n",
              " '房',\n",
              " '间',\n",
              " '较',\n",
              " '为',\n",
              " '简',\n",
              " '单',\n",
              " '.']"
            ]
          },
          "metadata": {
            "tags": []
          },
          "execution_count": 10
        }
      ]
    },
    {
      "cell_type": "code",
      "metadata": {
        "id": "YVFkM3hbwOxf"
      },
      "source": [
        "import tensorflow as tf"
      ],
      "execution_count": null,
      "outputs": []
    },
    {
      "cell_type": "code",
      "metadata": {
        "id": "4-fFcS-OwO0_"
      },
      "source": [
        "tokenizer = tf.keras.preprocessing.text.Tokenizer(filters='')"
      ],
      "execution_count": null,
      "outputs": []
    },
    {
      "cell_type": "code",
      "metadata": {
        "id": "otI88EHewO4I"
      },
      "source": [
        "tokenizer.fit_on_texts(mydata)"
      ],
      "execution_count": null,
      "outputs": []
    },
    {
      "cell_type": "code",
      "metadata": {
        "id": "jcW3D_ZewO7D"
      },
      "source": [
        "tokenizer.index_word"
      ],
      "execution_count": null,
      "outputs": []
    },
    {
      "cell_type": "code",
      "metadata": {
        "colab": {
          "base_uri": "https://localhost:8080/"
        },
        "id": "n642uEyqwO9m",
        "outputId": "b31becb9-0061-4dfd-e21f-ffff6314ece8"
      },
      "source": [
        "len(tokenizer.index_word)"
      ],
      "execution_count": null,
      "outputs": [
        {
          "output_type": "execute_result",
          "data": {
            "text/plain": [
              "3635"
            ]
          },
          "metadata": {
            "tags": []
          },
          "execution_count": 15
        }
      ]
    },
    {
      "cell_type": "code",
      "metadata": {
        "id": "S8eIRgKqwPAg"
      },
      "source": [
        "mytxtTensor = tokenizer.texts_to_sequences(mydata)"
      ],
      "execution_count": null,
      "outputs": []
    },
    {
      "cell_type": "code",
      "metadata": {
        "id": "E5I6J7tcwPDr"
      },
      "source": [
        "mytxtTensor[0]"
      ],
      "execution_count": null,
      "outputs": []
    },
    {
      "cell_type": "code",
      "metadata": {
        "id": "uGKNU872wPGw"
      },
      "source": [
        "mydata[0]"
      ],
      "execution_count": null,
      "outputs": []
    },
    {
      "cell_type": "code",
      "metadata": {
        "id": "HeRXteUewPKQ"
      },
      "source": [
        "mytxtTensor[0:5]"
      ],
      "execution_count": null,
      "outputs": []
    },
    {
      "cell_type": "code",
      "metadata": {
        "id": "0mClANnawPM9"
      },
      "source": [
        "mytxtTensor = tf.keras.preprocessing.sequence.pad_sequences(\n",
        "    mytxtTensor,\n",
        "    padding='post'#後面加0\n",
        "    ,truncating='post',\n",
        "    maxlen=30\n",
        ")"
      ],
      "execution_count": null,
      "outputs": []
    },
    {
      "cell_type": "code",
      "metadata": {
        "colab": {
          "base_uri": "https://localhost:8080/"
        },
        "id": "Metv-aMFwPQT",
        "outputId": "fd03cf5f-6d6d-4f91-8639-43119e7c7d63"
      },
      "source": [
        "len(mytxtTensor)"
      ],
      "execution_count": null,
      "outputs": [
        {
          "output_type": "execute_result",
          "data": {
            "text/plain": [
              "7766"
            ]
          },
          "metadata": {
            "tags": []
          },
          "execution_count": 21
        }
      ]
    },
    {
      "cell_type": "code",
      "metadata": {
        "colab": {
          "base_uri": "https://localhost:8080/"
        },
        "id": "ocAKeFMywPTN",
        "outputId": "7a0197d8-74ba-42c2-bdc2-272ec970886f"
      },
      "source": [
        "mytxtTensor[0:5]"
      ],
      "execution_count": null,
      "outputs": [
        {
          "output_type": "execute_result",
          "data": {
            "text/plain": [
              "array([[ 516,  168, 1170,  631,  274,  193,   54,  169,    9,   55,    5,\n",
              "         274,  218,  746,  552,    4,   82,    9,  108,  111,    5,  597,\n",
              "        2818, 1414,  506,  597,    2,  125,    9,   69],\n",
              "       [ 278,   22,   30,  116,    8,    1,    8,   13,   15,   30,    1,\n",
              "         116,    7,   39,  486,  370,    1,  253,  176,   57,   65,  149,\n",
              "         672,  136,  582,    4,   40,  161,    0,    0],\n",
              "       [  60,   46,   78,   76,    1,  216,  577,   48,   64,  247,   24,\n",
              "           1,  135,  199,   25,    4,  313,  606,  259,    2,    3,   12,\n",
              "          11,  238,  187,  346,  318,   10,   51,   31],\n",
              "       [ 112,  126,   21,   53,  365,  114,   26,    1,    4,   30,   18,\n",
              "         302,    1,   55,   16,   18,  480,  579,  197,  154,  254, 2819,\n",
              "          15,   64,  333,  112,  126,   93,  122,  441],\n",
              "       [ 232,  621,  588,   97,  154,    9,  223,  447,   32,  175,   91,\n",
              "          11,  979,    9,   47,  107,   88,    7,   33, 1140,  429,   17,\n",
              "           4,  160,  114,   83,  175,   91,  208,  128]], dtype=int32)"
            ]
          },
          "metadata": {
            "tags": []
          },
          "execution_count": 22
        }
      ]
    },
    {
      "cell_type": "code",
      "metadata": {
        "id": "tUF4K-sKwPV3"
      },
      "source": [
        "X=mytxtTensor"
      ],
      "execution_count": null,
      "outputs": []
    },
    {
      "cell_type": "code",
      "metadata": {
        "colab": {
          "base_uri": "https://localhost:8080/"
        },
        "id": "wlIj6dUEwPY5",
        "outputId": "7c3607ed-cf91-454d-d6bd-194c72932e20"
      },
      "source": [
        "X[0:5]"
      ],
      "execution_count": null,
      "outputs": [
        {
          "output_type": "execute_result",
          "data": {
            "text/plain": [
              "array([[ 516,  168, 1170,  631,  274,  193,   54,  169,    9,   55,    5,\n",
              "         274,  218,  746,  552,    4,   82,    9,  108,  111,    5,  597,\n",
              "        2818, 1414,  506,  597,    2,  125,    9,   69],\n",
              "       [ 278,   22,   30,  116,    8,    1,    8,   13,   15,   30,    1,\n",
              "         116,    7,   39,  486,  370,    1,  253,  176,   57,   65,  149,\n",
              "         672,  136,  582,    4,   40,  161,    0,    0],\n",
              "       [  60,   46,   78,   76,    1,  216,  577,   48,   64,  247,   24,\n",
              "           1,  135,  199,   25,    4,  313,  606,  259,    2,    3,   12,\n",
              "          11,  238,  187,  346,  318,   10,   51,   31],\n",
              "       [ 112,  126,   21,   53,  365,  114,   26,    1,    4,   30,   18,\n",
              "         302,    1,   55,   16,   18,  480,  579,  197,  154,  254, 2819,\n",
              "          15,   64,  333,  112,  126,   93,  122,  441],\n",
              "       [ 232,  621,  588,   97,  154,    9,  223,  447,   32,  175,   91,\n",
              "          11,  979,    9,   47,  107,   88,    7,   33, 1140,  429,   17,\n",
              "           4,  160,  114,   83,  175,   91,  208,  128]], dtype=int32)"
            ]
          },
          "metadata": {
            "tags": []
          },
          "execution_count": 24
        }
      ]
    },
    {
      "cell_type": "code",
      "metadata": {
        "id": "kj5Xmnr0wPbu"
      },
      "source": [
        "y = df.label"
      ],
      "execution_count": null,
      "outputs": []
    },
    {
      "cell_type": "code",
      "metadata": {
        "colab": {
          "base_uri": "https://localhost:8080/"
        },
        "id": "SDgQ56I3wPd7",
        "outputId": "2a19289f-358c-4396-afb2-458015fd42bf"
      },
      "source": [
        "y"
      ],
      "execution_count": null,
      "outputs": [
        {
          "output_type": "execute_result",
          "data": {
            "text/plain": [
              "0       1\n",
              "1       1\n",
              "2       1\n",
              "3       1\n",
              "4       1\n",
              "       ..\n",
              "7761    0\n",
              "7762    0\n",
              "7763    0\n",
              "7764    0\n",
              "7765    0\n",
              "Name: label, Length: 7766, dtype: int64"
            ]
          },
          "metadata": {
            "tags": []
          },
          "execution_count": 26
        }
      ]
    },
    {
      "cell_type": "code",
      "metadata": {
        "id": "zbEoEKMew3u4"
      },
      "source": [
        "from sklearn.model_selection import train_test_split\n",
        "\n",
        "X_train, X_test, y_train, y_test = train_test_split(X, y, test_size=0.4,random_state=0,stratify=y)\n"
      ],
      "execution_count": null,
      "outputs": []
    },
    {
      "cell_type": "code",
      "metadata": {
        "colab": {
          "base_uri": "https://localhost:8080/"
        },
        "id": "BR_126uJw3yV",
        "outputId": "3f1e1076-c7ec-4e34-d0f8-23c2554ce8ef"
      },
      "source": [
        "len(X_train)"
      ],
      "execution_count": null,
      "outputs": [
        {
          "output_type": "execute_result",
          "data": {
            "text/plain": [
              "4659"
            ]
          },
          "metadata": {
            "tags": []
          },
          "execution_count": 29
        }
      ]
    },
    {
      "cell_type": "code",
      "metadata": {
        "colab": {
          "base_uri": "https://localhost:8080/"
        },
        "id": "7d0QEMAAw31o",
        "outputId": "542884cd-1b92-4719-8fce-0e46d7347523"
      },
      "source": [
        "len(X_test)"
      ],
      "execution_count": null,
      "outputs": [
        {
          "output_type": "execute_result",
          "data": {
            "text/plain": [
              "3107"
            ]
          },
          "metadata": {
            "tags": []
          },
          "execution_count": 30
        }
      ]
    },
    {
      "cell_type": "code",
      "metadata": {
        "colab": {
          "base_uri": "https://localhost:8080/"
        },
        "id": "GfzdRa9mw34i",
        "outputId": "86a36c48-0aa2-4af4-ebc4-fcb51df89860"
      },
      "source": [
        "len(y_train)"
      ],
      "execution_count": null,
      "outputs": [
        {
          "output_type": "execute_result",
          "data": {
            "text/plain": [
              "4659"
            ]
          },
          "metadata": {
            "tags": []
          },
          "execution_count": 31
        }
      ]
    },
    {
      "cell_type": "code",
      "metadata": {
        "colab": {
          "base_uri": "https://localhost:8080/"
        },
        "id": "9sDM2-MIw37k",
        "outputId": "c319d639-96fe-4e42-92f5-32f7921a69d1"
      },
      "source": [
        "len(y_test)"
      ],
      "execution_count": null,
      "outputs": [
        {
          "output_type": "execute_result",
          "data": {
            "text/plain": [
              "3107"
            ]
          },
          "metadata": {
            "tags": []
          },
          "execution_count": 32
        }
      ]
    },
    {
      "cell_type": "code",
      "metadata": {
        "id": "jMH2SLb6w3-H"
      },
      "source": [
        "numWords = len(tokenizer.index_word)"
      ],
      "execution_count": null,
      "outputs": []
    },
    {
      "cell_type": "code",
      "metadata": {
        "colab": {
          "base_uri": "https://localhost:8080/"
        },
        "id": "u6cw-Eeuw4BC",
        "outputId": "16d17665-6293-4cde-8aa6-7939d0574c53"
      },
      "source": [
        "numWords"
      ],
      "execution_count": null,
      "outputs": [
        {
          "output_type": "execute_result",
          "data": {
            "text/plain": [
              "3635"
            ]
          },
          "metadata": {
            "tags": []
          },
          "execution_count": 34
        }
      ]
    },
    {
      "cell_type": "code",
      "metadata": {
        "id": "CqJU7Ukcw4Dl"
      },
      "source": [
        "embedding_dim = 250   #z1,z2,.......z250\n",
        "#embedding_dim = 5"
      ],
      "execution_count": null,
      "outputs": []
    },
    {
      "cell_type": "code",
      "metadata": {
        "id": "zIxBq1u0xD5l"
      },
      "source": [
        "from tensorflow.keras import layers"
      ],
      "execution_count": null,
      "outputs": []
    },
    {
      "cell_type": "code",
      "metadata": {
        "id": "J6utrfaQxD8k"
      },
      "source": [
        "embedding_layer = layers.Embedding(numWords+1,embedding_dim)"
      ],
      "execution_count": null,
      "outputs": []
    },
    {
      "cell_type": "code",
      "metadata": {
        "id": "93dbKqnMxEAn"
      },
      "source": [
        "embedding_layer(tf.constant([13,30,1]))"
      ],
      "execution_count": null,
      "outputs": []
    },
    {
      "cell_type": "code",
      "metadata": {
        "colab": {
          "base_uri": "https://localhost:8080/",
          "height": 422
        },
        "id": "AUmkpUyAxECI",
        "outputId": "900007e1-d27f-4306-94cb-c751717d6204"
      },
      "source": [
        "RNN_C = tf.keras.Sequential(name=\"RNN_C\")\n",
        "\n",
        "RNN_C.add(layers.Embedding(numWords+1, embedding_dim))\n",
        "\n",
        "RNN_C.add(layers.SimpleRNN(64))\n",
        "\n",
        "RNN_C.add(layers.Dense(2,activation=\"softmax\"))\n",
        "\n",
        "tf.keras.utils.plot_model(RNN_C, show_shapes=True)"
      ],
      "execution_count": null,
      "outputs": [
        {
          "output_type": "execute_result",
          "data": {
            "image/png": "[encoded data removed]",
            "text/plain": [
              "<IPython.core.display.Image object>"
            ]
          },
          "metadata": {
            "tags": []
          },
          "execution_count": 39
        }
      ]
    },
    {
      "cell_type": "code",
      "metadata": {
        "id": "IbdryV-OxEE2"
      },
      "source": [
        "RNN_C.compile(optimizer='Adam', \n",
        "              loss=tf.losses.sparse_categorical_crossentropy,\n",
        "              metrics=['accuracy'])"
      ],
      "execution_count": null,
      "outputs": []
    },
    {
      "cell_type": "code",
      "metadata": {
        "colab": {
          "base_uri": "https://localhost:8080/"
        },
        "id": "YQS-CEjnxEHi",
        "outputId": "106fcd2e-c31c-4a37-8ce2-0b05a95b5bea"
      },
      "source": [
        "RNN_C.summary()"
      ],
      "execution_count": null,
      "outputs": [
        {
          "output_type": "stream",
          "text": [
            "Model: \"RNN_C\"\n",
            "_________________________________________________________________\n",
            "Layer (type)                 Output Shape              Param #   \n",
            "=================================================================\n",
            "embedding_1 (Embedding)      (None, None, 250)         909000    \n",
            "_________________________________________________________________\n",
            "simple_rnn (SimpleRNN)       (None, 64)                20160     \n",
            "_________________________________________________________________\n",
            "dense (Dense)                (None, 2)                 130       \n",
            "=================================================================\n",
            "Total params: 929,290\n",
            "Trainable params: 929,290\n",
            "Non-trainable params: 0\n",
            "_________________________________________________________________\n"
          ],
          "name": "stdout"
        }
      ]
    },
    {
      "cell_type": "code",
      "metadata": {
        "colab": {
          "base_uri": "https://localhost:8080/"
        },
        "id": "F_G8bSyXzPsa",
        "outputId": "2361d165-38a0-40b6-ddb3-7d6995b6f57e"
      },
      "source": [
        "RNN_C.fit(X_train,y_train,epochs=20)"
      ],
      "execution_count": null,
      "outputs": [
        {
          "output_type": "stream",
          "text": [
            "Epoch 1/20\n",
            "146/146 [==============================] - 4s 20ms/step - loss: 0.5447 - accuracy: 0.7341\n",
            "Epoch 2/20\n",
            "146/146 [==============================] - 3s 20ms/step - loss: 0.3118 - accuracy: 0.8689\n",
            "Epoch 3/20\n",
            "146/146 [==============================] - 3s 20ms/step - loss: 0.1436 - accuracy: 0.9517\n",
            "Epoch 4/20\n",
            "146/146 [==============================] - 3s 20ms/step - loss: 0.0469 - accuracy: 0.9884\n",
            "Epoch 5/20\n",
            "146/146 [==============================] - 3s 19ms/step - loss: 0.0203 - accuracy: 0.9959\n",
            "Epoch 6/20\n",
            "146/146 [==============================] - 3s 20ms/step - loss: 0.0116 - accuracy: 0.9979\n",
            "Epoch 7/20\n",
            "146/146 [==============================] - 3s 20ms/step - loss: 0.0076 - accuracy: 0.9983\n",
            "Epoch 8/20\n",
            "146/146 [==============================] - 3s 19ms/step - loss: 0.0093 - accuracy: 0.9968\n",
            "Epoch 9/20\n",
            "146/146 [==============================] - 3s 19ms/step - loss: 0.0505 - accuracy: 0.9839\n",
            "Epoch 10/20\n",
            "146/146 [==============================] - 3s 20ms/step - loss: 0.0534 - accuracy: 0.9807\n",
            "Epoch 11/20\n",
            "146/146 [==============================] - 3s 20ms/step - loss: 0.0227 - accuracy: 0.9931\n",
            "Epoch 12/20\n",
            "146/146 [==============================] - 3s 19ms/step - loss: 0.0073 - accuracy: 0.9979\n",
            "Epoch 13/20\n",
            "146/146 [==============================] - 3s 20ms/step - loss: 0.0016 - accuracy: 0.9998\n",
            "Epoch 14/20\n",
            "146/146 [==============================] - 3s 20ms/step - loss: 4.5325e-04 - accuracy: 1.0000\n",
            "Epoch 15/20\n",
            "146/146 [==============================] - 3s 20ms/step - loss: 2.9446e-04 - accuracy: 1.0000\n",
            "Epoch 16/20\n",
            "146/146 [==============================] - 3s 20ms/step - loss: 2.3380e-04 - accuracy: 1.0000\n",
            "Epoch 17/20\n",
            "146/146 [==============================] - 3s 20ms/step - loss: 1.9121e-04 - accuracy: 1.0000\n",
            "Epoch 18/20\n",
            "146/146 [==============================] - 3s 20ms/step - loss: 1.6069e-04 - accuracy: 1.0000\n",
            "Epoch 19/20\n",
            "146/146 [==============================] - 3s 20ms/step - loss: 1.3727e-04 - accuracy: 1.0000\n",
            "Epoch 20/20\n",
            "146/146 [==============================] - 3s 20ms/step - loss: 1.1850e-04 - accuracy: 1.0000\n"
          ],
          "name": "stdout"
        },
        {
          "output_type": "execute_result",
          "data": {
            "text/plain": [
              "<tensorflow.python.keras.callbacks.History at 0x7f205253f550>"
            ]
          },
          "metadata": {
            "tags": []
          },
          "execution_count": 42
        }
      ]
    },
    {
      "cell_type": "code",
      "metadata": {
        "colab": {
          "base_uri": "https://localhost:8080/"
        },
        "id": "V0jRsJt_xPU7",
        "outputId": "6e51a799-f99a-46be-897c-53befc98bed7"
      },
      "source": [
        "from sklearn import metrics\n",
        "\n",
        "#預測\n",
        "y_test_predicted = RNN_C.predict_classes(X_test)\n",
        "\n",
        "# 績效\n",
        "accuracy = metrics.accuracy_score(y_test, y_test_predicted)\n",
        "print(accuracy)\n"
      ],
      "execution_count": null,
      "outputs": [
        {
          "output_type": "stream",
          "text": [
            "/usr/local/lib/python3.7/dist-packages/tensorflow/python/keras/engine/sequential.py:455: UserWarning: `model.predict_classes()` is deprecated and will be removed after 2021-01-01. Please use instead:* `np.argmax(model.predict(x), axis=-1)`,   if your model does multi-class classification   (e.g. if it uses a `softmax` last-layer activation).* `(model.predict(x) > 0.5).astype(\"int32\")`,   if your model does binary classification   (e.g. if it uses a `sigmoid` last-layer activation).\n",
            "  warnings.warn('`model.predict_classes()` is deprecated and '\n"
          ],
          "name": "stderr"
        },
        {
          "output_type": "stream",
          "text": [
            "0.7666559382040553\n"
          ],
          "name": "stdout"
        }
      ]
    },
    {
      "cell_type": "code",
      "metadata": {
        "colab": {
          "base_uri": "https://localhost:8080/"
        },
        "id": "EIPz0FL-xPYy",
        "outputId": "85ff4cbf-1987-4cb9-f2f2-d625e9f64748"
      },
      "source": [
        "y_test_predicted"
      ],
      "execution_count": null,
      "outputs": [
        {
          "output_type": "execute_result",
          "data": {
            "text/plain": [
              "array([0, 0, 1, ..., 0, 1, 1])"
            ]
          },
          "metadata": {
            "tags": []
          },
          "execution_count": 44
        }
      ]
    },
    {
      "cell_type": "code",
      "metadata": {
        "colab": {
          "base_uri": "https://localhost:8080/"
        },
        "id": "0y-s8aivxPad",
        "outputId": "4841566d-af3e-474f-b507-4e7bb07db912"
      },
      "source": [
        "from sklearn.metrics import classification_report\n",
        "print(classification_report(y_test,y_test_predicted))"
      ],
      "execution_count": null,
      "outputs": [
        {
          "output_type": "stream",
          "text": [
            "              precision    recall  f1-score   support\n",
            "\n",
            "           0       0.64      0.59      0.61       978\n",
            "           1       0.82      0.85      0.83      2129\n",
            "\n",
            "    accuracy                           0.77      3107\n",
            "   macro avg       0.73      0.72      0.72      3107\n",
            "weighted avg       0.76      0.77      0.76      3107\n",
            "\n"
          ],
          "name": "stdout"
        }
      ]
    },
    {
      "cell_type": "code",
      "metadata": {
        "colab": {
          "base_uri": "https://localhost:8080/"
        },
        "id": "ncYVhlW3w4GW",
        "outputId": "c6bee8d8-b661-47ed-c623-b480a529b140"
      },
      "source": [
        "from sklearn import metrics\n",
        "\n",
        "print(\"Accuracy:\",metrics.accuracy_score(y_test,y_test_predicted))\n",
        "print(\"Precision:\",metrics.precision_score(y_test,y_test_predicted))\n",
        "print(\"Recall:\",metrics.recall_score(y_test,y_test_predicted))"
      ],
      "execution_count": null,
      "outputs": [
        {
          "output_type": "stream",
          "text": [
            "Accuracy: 0.7666559382040553\n",
            "Precision: 0.8179347826086957\n",
            "Recall: 0.8482855800845467\n"
          ],
          "name": "stdout"
        }
      ]
    },
    {
      "cell_type": "code",
      "metadata": {
        "colab": {
          "base_uri": "https://localhost:8080/"
        },
        "id": "--wPYhUexarR",
        "outputId": "f2cfeae9-a58a-43c3-dc3a-3c94aaf67fea"
      },
      "source": [
        "from sklearn.metrics import confusion_matrix\n",
        "matrix=confusion_matrix(y_test,y_test_predicted)\n",
        "print(matrix)"
      ],
      "execution_count": null,
      "outputs": [
        {
          "output_type": "stream",
          "text": [
            "[[ 576  402]\n",
            " [ 323 1806]]\n"
          ],
          "name": "stdout"
        }
      ]
    },
    {
      "cell_type": "code",
      "metadata": {
        "colab": {
          "base_uri": "https://localhost:8080/",
          "height": 339
        },
        "id": "hXOsxQhuxauT",
        "outputId": "086d5cb6-74c2-414c-b4b7-185ae28d88fb"
      },
      "source": [
        "#混淆矩陣視覺化(Heatmap)\n",
        "import numpy as np\n",
        "import matplotlib.pyplot as plt\n",
        "import seaborn as sns\n",
        "%matplotlib inline\n",
        "class_names=[0,1] # name  of classes\n",
        "fig, ax = plt.subplots()\n",
        "tick_marks = np.arange(len(class_names))\n",
        "plt.xticks(tick_marks, class_names)\n",
        "plt.yticks(tick_marks, class_names)\n",
        "# create heatmap\n",
        "sns.heatmap(pd.DataFrame(matrix), annot=True, cmap=\"YlGnBu\" ,fmt='g')\n",
        "ax.xaxis.set_label_position(\"top\")\n",
        "plt.tight_layout()\n",
        "plt.title('Confusion matrix', y=1.1)\n",
        "plt.ylabel('Actual label')\n",
        "plt.xlabel('Predicted label')"
      ],
      "execution_count": null,
      "outputs": [
        {
          "output_type": "execute_result",
          "data": {
            "text/plain": [
              "Text(0.5, 257.44, 'Predicted label')"
            ]
          },
          "metadata": {
            "tags": []
          },
          "execution_count": 48
        },
        {
          "output_type": "display_data",
          "data": {
            "image/png": "[encoded data removed]",
            "text/plain": [
              "<Figure size 432x288 with 2 Axes>"
            ]
          },
          "metadata": {
            "tags": [],
            "needs_background": "light"
          }
        }
      ]
    },
    {
      "cell_type": "code",
      "metadata": {
        "id": "YlHaUnNdxax_"
      },
      "source": [
        ""
      ],
      "execution_count": null,
      "outputs": []
    }
  ]
}